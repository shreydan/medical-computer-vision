{
 "cells": [
  {
   "cell_type": "markdown",
   "id": "c85b2195",
   "metadata": {
    "papermill": {
     "duration": 0.011428,
     "end_time": "2024-05-21T07:50:24.013646",
     "exception": false,
     "start_time": "2024-05-21T07:50:24.002218",
     "status": "completed"
    },
    "tags": []
   },
   "source": [
    "# **CheXpert Chest X-Ray Dataset**\n",
    "\n",
    "- [dataset](https://stanfordmlgroup.github.io/competitions/chexpert/)\n",
    "- [Read the Paper (Irvin & Rajpurkar et al.)](https://arxiv.org/abs/1901.07031)\n",
    "\n",
    "\n",
    "## What is CheXpert?\n",
    "\n",
    "CheXpert is a large dataset of chest X-rays and competition for automated chest x-ray interpretation, which features uncertainty labels and radiologist-labeled reference standard evaluation sets.\n",
    "\n",
    "\n",
    "## Why CheXpert?\n",
    "\n",
    "Chest radiography is the most common imaging examination globally, critical for screening, diagnosis, and management of many life threatening diseases. Automated chest radiograph interpretation at the level of practicing radiologists could provide substantial benefit in many medical settings, from improved workflow prioritization and clinical decision support to large-scale screening and global population health initiatives. For progress in both development and validation of automated algorithms, we realized there was a need for a labeled dataset that (1) was large, (2) had strong reference standards, and (3) provided expert human performance metrics for comparison.\n",
    "\n",
    "---\n",
    "\n",
    "## In the CheXpert series:\n",
    "\n",
    "- [**🩻 CheXpert X-Rays Dataset | Data Visuals 🫁**](https://www.kaggle.com/code/shreydan/chexpert-x-rays-dataset-data-visuals): we explored the dataset visually as per the diseases\n",
    "- [**🩻 CheXpert | multi-label classifier 📊️**](https://www.kaggle.com/code/shreydan/chexpert-multi-label-classifier/): we trained a multi-label classifier for the following labels: Atelectasis, Cardiomegaly, Consolidation, Edema, Pleural Effusion. We used asymmetric loss function with multiple metrics: auroc, specificity, hamming_loss, exact_match.\n",
    "- [**🩻 CheXpert | TTA labeling**](https://www.kaggle.com/code/shreydan/chexpert-tta-labeling): we applied test-time augmentation of uncertain labels to select a final label based on the most-occuring label out of 5 predictions on 1 sample.\n",
    "\n",
    "### In this notebook, we'll be training a multi-label image classifier on the CheXpert dataset for the following labels: \n",
    "\n",
    "| Term             | Description                                                               |\n",
    "|-----------------|:--------------------------------------------------------------------------|\n",
    "| Atelectasis      | Incomplete collapse of lung tissue                                        |\n",
    "| Cardiomegaly     | Enlargement of the heart                                                  |\n",
    "| Consolidation    | Filling of air spaces in the lung with fluid                              |\n",
    "| Edema            | Excess fluid in the tissues                                               |\n",
    "| Pleural Effusion | Abnormal collection of fluid in the space between the lung and chest wall |\n",
    "\n",
    "### We'll be using the original labels along with the generated pseudo-labels\n",
    "#### do checkout the previous classification notebook on more details on dataset preparation."
   ]
  },
  {
   "cell_type": "markdown",
   "id": "8084d18a",
   "metadata": {
    "papermill": {
     "duration": 0.010724,
     "end_time": "2024-05-21T07:50:24.036279",
     "exception": false,
     "start_time": "2024-05-21T07:50:24.025555",
     "status": "completed"
    },
    "tags": []
   },
   "source": [
    "# Imports"
   ]
  },
  {
   "cell_type": "code",
   "execution_count": 1,
   "id": "0a1c4c90",
   "metadata": {
    "execution": {
     "iopub.execute_input": "2024-05-21T07:50:24.059362Z",
     "iopub.status.busy": "2024-05-21T07:50:24.058501Z",
     "iopub.status.idle": "2024-05-21T07:50:52.085300Z",
     "shell.execute_reply": "2024-05-21T07:50:52.084283Z"
    },
    "papermill": {
     "duration": 28.040991,
     "end_time": "2024-05-21T07:50:52.087744",
     "exception": false,
     "start_time": "2024-05-21T07:50:24.046753",
     "status": "completed"
    },
    "tags": []
   },
   "outputs": [],
   "source": [
    "!pip install -Uq transformers accelerate datasets"
   ]
  },
  {
   "cell_type": "code",
   "execution_count": 2,
   "id": "553a977e",
   "metadata": {
    "_cell_guid": "b1076dfc-b9ad-4769-8c92-a6c4dae69d19",
    "_uuid": "8f2839f25d086af736a60e9eeb907d3b93b6e0e5",
    "execution": {
     "iopub.execute_input": "2024-05-21T07:50:52.111369Z",
     "iopub.status.busy": "2024-05-21T07:50:52.111072Z",
     "iopub.status.idle": "2024-05-21T07:51:12.024289Z",
     "shell.execute_reply": "2024-05-21T07:51:12.023497Z"
    },
    "papermill": {
     "duration": 19.928082,
     "end_time": "2024-05-21T07:51:12.026680",
     "exception": false,
     "start_time": "2024-05-21T07:50:52.098598",
     "status": "completed"
    },
    "tags": []
   },
   "outputs": [
    {
     "name": "stderr",
     "output_type": "stream",
     "text": [
      "2024-05-21 07:51:01.217894: E external/local_xla/xla/stream_executor/cuda/cuda_dnn.cc:9261] Unable to register cuDNN factory: Attempting to register factory for plugin cuDNN when one has already been registered\n",
      "2024-05-21 07:51:01.217988: E external/local_xla/xla/stream_executor/cuda/cuda_fft.cc:607] Unable to register cuFFT factory: Attempting to register factory for plugin cuFFT when one has already been registered\n",
      "2024-05-21 07:51:01.321368: E external/local_xla/xla/stream_executor/cuda/cuda_blas.cc:1515] Unable to register cuBLAS factory: Attempting to register factory for plugin cuBLAS when one has already been registered\n"
     ]
    }
   ],
   "source": [
    "import numpy as np\n",
    "import pandas as pd\n",
    "import matplotlib.pyplot as plt\n",
    "import torch\n",
    "import torch.nn as nn\n",
    "from PIL import Image\n",
    "from torchvision.utils import make_grid\n",
    "import torchvision.transforms.functional as TF\n",
    "import albumentations as A\n",
    "from albumentations.pytorch import ToTensorV2\n",
    "from tqdm.auto import tqdm\n",
    "from sklearn.model_selection import StratifiedGroupKFold\n",
    "from pathlib import Path\n",
    "from collections import Counter\n",
    "import datasets\n",
    "from transformers import AutoModelForImageClassification, Trainer, TrainingArguments\n",
    "from torchmetrics.functional.classification import (multilabel_auroc, \n",
    "                                                    multilabel_exact_match,\n",
    "                                                    multilabel_specificity,\n",
    "                                                    multilabel_hamming_distance\n",
    "                                                   )\n",
    "from types import SimpleNamespace\n",
    "\n",
    "from huggingface_hub import login\n",
    "\n",
    "tqdm.pandas()"
   ]
  },
  {
   "cell_type": "code",
   "execution_count": 3,
   "id": "d19ad1f3",
   "metadata": {
    "execution": {
     "iopub.execute_input": "2024-05-21T07:51:12.052040Z",
     "iopub.status.busy": "2024-05-21T07:51:12.051395Z",
     "iopub.status.idle": "2024-05-21T07:51:12.403247Z",
     "shell.execute_reply": "2024-05-21T07:51:12.402115Z"
    },
    "papermill": {
     "duration": 0.366525,
     "end_time": "2024-05-21T07:51:12.405766",
     "exception": false,
     "start_time": "2024-05-21T07:51:12.039241",
     "status": "completed"
    },
    "tags": []
   },
   "outputs": [
    {
     "name": "stdout",
     "output_type": "stream",
     "text": [
      "The token has not been saved to the git credentials helper. Pass `add_to_git_credential=True` in this function directly or `--add-to-git-credential` if using via `huggingface-cli` if you want to set the git credential as well.\n",
      "Token is valid (permission: write).\n",
      "Your token has been saved to /root/.cache/huggingface/token\n",
      "Login successful\n"
     ]
    }
   ],
   "source": [
    "from kaggle_secrets import UserSecretsClient\n",
    "user_secrets = UserSecretsClient()\n",
    "hfkey = user_secrets.get_secret(\"hfkeywrite\")\n",
    "login(token=hfkey)"
   ]
  },
  {
   "cell_type": "markdown",
   "id": "a9dac055",
   "metadata": {
    "papermill": {
     "duration": 0.011193,
     "end_time": "2024-05-21T07:51:12.428249",
     "exception": false,
     "start_time": "2024-05-21T07:51:12.417056",
     "status": "completed"
    },
    "tags": []
   },
   "source": [
    "# Basic Data Preparation\n",
    "\n",
    "- I'll be splitting the `train` dataset into train and validation.\n",
    "- I'll be using the `validation` dataset for testing."
   ]
  },
  {
   "cell_type": "code",
   "execution_count": 4,
   "id": "59d4a146",
   "metadata": {
    "execution": {
     "iopub.execute_input": "2024-05-21T07:51:12.451786Z",
     "iopub.status.busy": "2024-05-21T07:51:12.451460Z",
     "iopub.status.idle": "2024-05-21T07:51:12.455790Z",
     "shell.execute_reply": "2024-05-21T07:51:12.454874Z"
    },
    "papermill": {
     "duration": 0.01833,
     "end_time": "2024-05-21T07:51:12.457745",
     "exception": false,
     "start_time": "2024-05-21T07:51:12.439415",
     "status": "completed"
    },
    "tags": []
   },
   "outputs": [],
   "source": [
    "base_path = Path('/kaggle/input/chexpert')"
   ]
  },
  {
   "cell_type": "code",
   "execution_count": 5,
   "id": "9bb02365",
   "metadata": {
    "execution": {
     "iopub.execute_input": "2024-05-21T07:51:12.480819Z",
     "iopub.status.busy": "2024-05-21T07:51:12.480492Z",
     "iopub.status.idle": "2024-05-21T07:51:13.048308Z",
     "shell.execute_reply": "2024-05-21T07:51:13.047394Z"
    },
    "papermill": {
     "duration": 0.584106,
     "end_time": "2024-05-21T07:51:13.052772",
     "exception": false,
     "start_time": "2024-05-21T07:51:12.468666",
     "status": "completed"
    },
    "tags": []
   },
   "outputs": [
    {
     "data": {
      "application/vnd.jupyter.widget-view+json": {
       "model_id": "6adc80ab18f94c4d943f056a5116fb6b",
       "version_major": 2,
       "version_minor": 0
      },
      "text/plain": [
       "  0%|          | 0/234 [00:00<?, ?it/s]"
      ]
     },
     "metadata": {},
     "output_type": "display_data"
    }
   ],
   "source": [
    "# generated from the TTA notebook \n",
    "train_df = pd.read_csv('/kaggle/input/chexpert-tta-labeling/train_df.csv')\n",
    "\n",
    "test_df = pd.read_csv('/kaggle/input/chexpert/CheXpert-v1.0-small/valid.csv')\n",
    "test_df['Path'] = test_df['Path'].progress_map(lambda p: base_path/Path(p))"
   ]
  },
  {
   "cell_type": "markdown",
   "id": "698d3004",
   "metadata": {
    "papermill": {
     "duration": 0.010727,
     "end_time": "2024-05-21T07:51:13.074799",
     "exception": false,
     "start_time": "2024-05-21T07:51:13.064072",
     "status": "completed"
    },
    "tags": []
   },
   "source": [
    "# Target Columns for Training Models\n",
    "\n",
    "- we have all possible labels: `all_target_cols`\n",
    "- labels which were specific to CheXpert competition: `target_cols`"
   ]
  },
  {
   "cell_type": "code",
   "execution_count": 6,
   "id": "64cb1e54",
   "metadata": {
    "execution": {
     "iopub.execute_input": "2024-05-21T07:51:13.097803Z",
     "iopub.status.busy": "2024-05-21T07:51:13.097468Z",
     "iopub.status.idle": "2024-05-21T07:51:13.102399Z",
     "shell.execute_reply": "2024-05-21T07:51:13.101668Z"
    },
    "papermill": {
     "duration": 0.018563,
     "end_time": "2024-05-21T07:51:13.104279",
     "exception": false,
     "start_time": "2024-05-21T07:51:13.085716",
     "status": "completed"
    },
    "tags": []
   },
   "outputs": [],
   "source": [
    "all_target_cols = [\n",
    "    'No Finding',\n",
    "    'Enlarged Cardiomediastinum', 'Cardiomegaly', 'Lung Opacity',\n",
    "    'Lung Lesion', 'Edema', 'Consolidation', 'Pneumonia', 'Atelectasis',\n",
    "    'Pneumothorax', 'Pleural Effusion', 'Pleural Other', 'Fracture',\n",
    "    'Support Devices'\n",
    "]\n",
    "target_cols = ['Atelectasis', 'Cardiomegaly', 'Consolidation', 'Edema', 'Pleural Effusion']\n",
    "\n",
    "keep_cols = ['Path','PatientID'] + target_cols"
   ]
  },
  {
   "cell_type": "code",
   "execution_count": 7,
   "id": "d9f779e3",
   "metadata": {
    "execution": {
     "iopub.execute_input": "2024-05-21T07:51:13.127825Z",
     "iopub.status.busy": "2024-05-21T07:51:13.127498Z",
     "iopub.status.idle": "2024-05-21T07:51:13.141585Z",
     "shell.execute_reply": "2024-05-21T07:51:13.140678Z"
    },
    "papermill": {
     "duration": 0.028459,
     "end_time": "2024-05-21T07:51:13.143838",
     "exception": false,
     "start_time": "2024-05-21T07:51:13.115379",
     "status": "completed"
    },
    "tags": []
   },
   "outputs": [
    {
     "data": {
      "text/html": [
       "<div>\n",
       "<style scoped>\n",
       "    .dataframe tbody tr th:only-of-type {\n",
       "        vertical-align: middle;\n",
       "    }\n",
       "\n",
       "    .dataframe tbody tr th {\n",
       "        vertical-align: top;\n",
       "    }\n",
       "\n",
       "    .dataframe thead th {\n",
       "        text-align: right;\n",
       "    }\n",
       "</style>\n",
       "<table border=\"1\" class=\"dataframe\">\n",
       "  <thead>\n",
       "    <tr style=\"text-align: right;\">\n",
       "      <th></th>\n",
       "      <th>Path</th>\n",
       "      <th>PatientID</th>\n",
       "      <th>fold</th>\n",
       "      <th>labels</th>\n",
       "    </tr>\n",
       "  </thead>\n",
       "  <tbody>\n",
       "    <tr>\n",
       "      <th>0</th>\n",
       "      <td>/kaggle/input/chexpert/CheXpert-v1.0-small/tra...</td>\n",
       "      <td>42990</td>\n",
       "      <td>5</td>\n",
       "      <td>1,0,0,0,0</td>\n",
       "    </tr>\n",
       "    <tr>\n",
       "      <th>1</th>\n",
       "      <td>/kaggle/input/chexpert/CheXpert-v1.0-small/tra...</td>\n",
       "      <td>33251</td>\n",
       "      <td>6</td>\n",
       "      <td>0,0,0,1,0</td>\n",
       "    </tr>\n",
       "    <tr>\n",
       "      <th>2</th>\n",
       "      <td>/kaggle/input/chexpert/CheXpert-v1.0-small/tra...</td>\n",
       "      <td>1757</td>\n",
       "      <td>4</td>\n",
       "      <td>1,0,0,0,1</td>\n",
       "    </tr>\n",
       "    <tr>\n",
       "      <th>3</th>\n",
       "      <td>/kaggle/input/chexpert/CheXpert-v1.0-small/tra...</td>\n",
       "      <td>20265</td>\n",
       "      <td>5</td>\n",
       "      <td>0,0,0,0,0</td>\n",
       "    </tr>\n",
       "    <tr>\n",
       "      <th>4</th>\n",
       "      <td>/kaggle/input/chexpert/CheXpert-v1.0-small/tra...</td>\n",
       "      <td>7488</td>\n",
       "      <td>7</td>\n",
       "      <td>0,0,0,1,1</td>\n",
       "    </tr>\n",
       "  </tbody>\n",
       "</table>\n",
       "</div>"
      ],
      "text/plain": [
       "                                                Path  PatientID  fold  \\\n",
       "0  /kaggle/input/chexpert/CheXpert-v1.0-small/tra...      42990     5   \n",
       "1  /kaggle/input/chexpert/CheXpert-v1.0-small/tra...      33251     6   \n",
       "2  /kaggle/input/chexpert/CheXpert-v1.0-small/tra...       1757     4   \n",
       "3  /kaggle/input/chexpert/CheXpert-v1.0-small/tra...      20265     5   \n",
       "4  /kaggle/input/chexpert/CheXpert-v1.0-small/tra...       7488     7   \n",
       "\n",
       "      labels  \n",
       "0  1,0,0,0,0  \n",
       "1  0,0,0,1,0  \n",
       "2  1,0,0,0,1  \n",
       "3  0,0,0,0,0  \n",
       "4  0,0,0,1,1  "
      ]
     },
     "execution_count": 7,
     "metadata": {},
     "output_type": "execute_result"
    }
   ],
   "source": [
    "train_df.head()"
   ]
  },
  {
   "cell_type": "code",
   "execution_count": 8,
   "id": "a19825be",
   "metadata": {
    "execution": {
     "iopub.execute_input": "2024-05-21T07:51:13.168992Z",
     "iopub.status.busy": "2024-05-21T07:51:13.168683Z",
     "iopub.status.idle": "2024-05-21T07:51:13.180207Z",
     "shell.execute_reply": "2024-05-21T07:51:13.179461Z"
    },
    "papermill": {
     "duration": 0.025818,
     "end_time": "2024-05-21T07:51:13.182365",
     "exception": false,
     "start_time": "2024-05-21T07:51:13.156547",
     "status": "completed"
    },
    "tags": []
   },
   "outputs": [],
   "source": [
    "test_df.fillna(value=0,inplace=True)\n",
    "test_df[all_target_cols] = test_df[all_target_cols].astype(int)"
   ]
  },
  {
   "cell_type": "code",
   "execution_count": 9,
   "id": "664d2c71",
   "metadata": {
    "execution": {
     "iopub.execute_input": "2024-05-21T07:51:13.207222Z",
     "iopub.status.busy": "2024-05-21T07:51:13.206966Z",
     "iopub.status.idle": "2024-05-21T07:51:13.229883Z",
     "shell.execute_reply": "2024-05-21T07:51:13.229035Z"
    },
    "papermill": {
     "duration": 0.043946,
     "end_time": "2024-05-21T07:51:13.238553",
     "exception": false,
     "start_time": "2024-05-21T07:51:13.194607",
     "status": "completed"
    },
    "tags": []
   },
   "outputs": [
    {
     "data": {
      "application/vnd.jupyter.widget-view+json": {
       "model_id": "750a92fd4b234093b4b41ca5990a76de",
       "version_major": 2,
       "version_minor": 0
      },
      "text/plain": [
       "  0%|          | 0/234 [00:00<?, ?it/s]"
      ]
     },
     "metadata": {},
     "output_type": "display_data"
    }
   ],
   "source": [
    "test_df = test_df.drop(columns=[c for c in test_df.columns if c not in keep_cols])\n",
    "test_df['Path'] = test_df['Path'].progress_map(lambda p:str(p))"
   ]
  },
  {
   "cell_type": "markdown",
   "id": "d4cfe245",
   "metadata": {
    "papermill": {
     "duration": 0.010955,
     "end_time": "2024-05-21T07:51:13.261825",
     "exception": false,
     "start_time": "2024-05-21T07:51:13.250870",
     "status": "completed"
    },
    "tags": []
   },
   "source": [
    "# Train-Valid Split\n",
    "- we had previously used `StratifiedGroupKFold` to split the dataset, Grouping is done based on patient ID to not have any overlaps."
   ]
  },
  {
   "cell_type": "code",
   "execution_count": 10,
   "id": "5324eb29",
   "metadata": {
    "execution": {
     "iopub.execute_input": "2024-05-21T07:51:13.285447Z",
     "iopub.status.busy": "2024-05-21T07:51:13.285144Z",
     "iopub.status.idle": "2024-05-21T07:51:13.291613Z",
     "shell.execute_reply": "2024-05-21T07:51:13.290794Z"
    },
    "papermill": {
     "duration": 0.020377,
     "end_time": "2024-05-21T07:51:13.293396",
     "exception": false,
     "start_time": "2024-05-21T07:51:13.273019",
     "status": "completed"
    },
    "tags": []
   },
   "outputs": [],
   "source": [
    "def combine_label_cols(df, label_cols):\n",
    "    combine = lambda x: ','.join([f\"{x[c]}\" for c in label_cols])\n",
    "    df['labels'] = df.progress_apply(combine, axis=1)\n",
    "    df = df.drop(columns=label_cols)\n",
    "    return df.reset_index(drop=True)\n",
    "\n",
    "def get_fold(df,fold=0):\n",
    "    train = df[df['fold']!=fold].reset_index(drop=True)\n",
    "    valid = df[df['fold']==fold].reset_index(drop=True)\n",
    "    return train, valid"
   ]
  },
  {
   "cell_type": "code",
   "execution_count": 11,
   "id": "5f7ee62c",
   "metadata": {
    "execution": {
     "iopub.execute_input": "2024-05-21T07:51:13.317790Z",
     "iopub.status.busy": "2024-05-21T07:51:13.317491Z",
     "iopub.status.idle": "2024-05-21T07:51:13.345270Z",
     "shell.execute_reply": "2024-05-21T07:51:13.344436Z"
    },
    "papermill": {
     "duration": 0.042494,
     "end_time": "2024-05-21T07:51:13.347259",
     "exception": false,
     "start_time": "2024-05-21T07:51:13.304765",
     "status": "completed"
    },
    "tags": []
   },
   "outputs": [
    {
     "data": {
      "text/plain": [
       "(195851, 27563)"
      ]
     },
     "execution_count": 11,
     "metadata": {},
     "output_type": "execute_result"
    }
   ],
   "source": [
    "fold_0_train,fold_0_valid = get_fold(train_df, fold=0)\n",
    "len(fold_0_train), len(fold_0_valid)"
   ]
  },
  {
   "cell_type": "markdown",
   "id": "7d30945d",
   "metadata": {
    "papermill": {
     "duration": 0.011174,
     "end_time": "2024-05-21T07:51:13.369984",
     "exception": false,
     "start_time": "2024-05-21T07:51:13.358810",
     "status": "completed"
    },
    "tags": []
   },
   "source": [
    "# Label Distribution"
   ]
  },
  {
   "cell_type": "code",
   "execution_count": 12,
   "id": "8a71f934",
   "metadata": {
    "execution": {
     "iopub.execute_input": "2024-05-21T07:51:13.393654Z",
     "iopub.status.busy": "2024-05-21T07:51:13.393375Z",
     "iopub.status.idle": "2024-05-21T07:51:14.262440Z",
     "shell.execute_reply": "2024-05-21T07:51:14.261513Z"
    },
    "papermill": {
     "duration": 0.883762,
     "end_time": "2024-05-21T07:51:14.265059",
     "exception": false,
     "start_time": "2024-05-21T07:51:13.381297",
     "status": "completed"
    },
    "tags": []
   },
   "outputs": [
    {
     "name": "stdout",
     "output_type": "stream",
     "text": [
      "Atelectasis\n",
      "0\ttrain: 154210 valid: 21667 test: 154\n",
      "1\ttrain: 41641 valid: 5896 test: 80\n",
      "\n",
      "Cardiomegaly\n",
      "0\ttrain: 169344 valid: 23893 test: 166\n",
      "1\ttrain: 26507 valid: 3670 test: 68\n",
      "\n",
      "Consolidation\n",
      "0\ttrain: 182131 valid: 25731 test: 201\n",
      "1\ttrain: 13720 valid: 1832 test: 33\n",
      "\n",
      "Edema\n",
      "0\ttrain: 141971 valid: 20084 test: 189\n",
      "1\ttrain: 53880 valid: 7479 test: 45\n",
      "\n",
      "Pleural Effusion\n",
      "0\ttrain: 113402 valid: 16000 test: 167\n",
      "1\ttrain: 82449 valid: 11563 test: 67\n",
      "\n",
      "possible gamma_neg for the loss_fn: 3\n"
     ]
    }
   ],
   "source": [
    "dist_df = train_df.copy()\n",
    "dist_df[target_cols] = dist_df['labels'].str.split(',',expand=True)\n",
    "dist_df[target_cols] = dist_df[target_cols].astype(int)\n",
    "dist_train, dist_valid = get_fold(dist_df, fold=0)\n",
    "\n",
    "ones = 0\n",
    "zeros = 0\n",
    "for col in target_cols:\n",
    "    t = dist_train[col].value_counts().to_dict()\n",
    "    v = dist_valid[col].value_counts().to_dict()\n",
    "    te = test_df[col].value_counts().to_dict()\n",
    "    print(col)\n",
    "    for k in [0,1]:\n",
    "        print(f\"{k}\\ttrain: {t[k]} valid: {v[k]} test: {te.get(k,0)}\")\n",
    "    print()\n",
    "    zeros += t[0]\n",
    "    ones += t[1]\n",
    "  \n",
    "print('possible gamma_neg for the loss_fn:',zeros//ones)"
   ]
  },
  {
   "cell_type": "markdown",
   "id": "f8e9bd85",
   "metadata": {
    "papermill": {
     "duration": 0.011094,
     "end_time": "2024-05-21T07:51:14.288626",
     "exception": false,
     "start_time": "2024-05-21T07:51:14.277532",
     "status": "completed"
    },
    "tags": []
   },
   "source": [
    "## We're combining the labels into a list so that it becomes easier to one-hot encode"
   ]
  },
  {
   "cell_type": "code",
   "execution_count": 13,
   "id": "ea76896a",
   "metadata": {
    "execution": {
     "iopub.execute_input": "2024-05-21T07:51:14.312558Z",
     "iopub.status.busy": "2024-05-21T07:51:14.312252Z",
     "iopub.status.idle": "2024-05-21T07:51:14.346061Z",
     "shell.execute_reply": "2024-05-21T07:51:14.345136Z"
    },
    "papermill": {
     "duration": 0.050296,
     "end_time": "2024-05-21T07:51:14.350282",
     "exception": false,
     "start_time": "2024-05-21T07:51:14.299986",
     "status": "completed"
    },
    "tags": []
   },
   "outputs": [
    {
     "data": {
      "application/vnd.jupyter.widget-view+json": {
       "model_id": "e0a10fe9ed7645dfaa908739216cc225",
       "version_major": 2,
       "version_minor": 0
      },
      "text/plain": [
       "  0%|          | 0/234 [00:00<?, ?it/s]"
      ]
     },
     "metadata": {},
     "output_type": "display_data"
    },
    {
     "data": {
      "text/html": [
       "<div>\n",
       "<style scoped>\n",
       "    .dataframe tbody tr th:only-of-type {\n",
       "        vertical-align: middle;\n",
       "    }\n",
       "\n",
       "    .dataframe tbody tr th {\n",
       "        vertical-align: top;\n",
       "    }\n",
       "\n",
       "    .dataframe thead th {\n",
       "        text-align: right;\n",
       "    }\n",
       "</style>\n",
       "<table border=\"1\" class=\"dataframe\">\n",
       "  <thead>\n",
       "    <tr style=\"text-align: right;\">\n",
       "      <th></th>\n",
       "      <th>Path</th>\n",
       "      <th>PatientID</th>\n",
       "      <th>fold</th>\n",
       "      <th>labels</th>\n",
       "    </tr>\n",
       "  </thead>\n",
       "  <tbody>\n",
       "    <tr>\n",
       "      <th>0</th>\n",
       "      <td>/kaggle/input/chexpert/CheXpert-v1.0-small/tra...</td>\n",
       "      <td>42990</td>\n",
       "      <td>5</td>\n",
       "      <td>1,0,0,0,0</td>\n",
       "    </tr>\n",
       "    <tr>\n",
       "      <th>1</th>\n",
       "      <td>/kaggle/input/chexpert/CheXpert-v1.0-small/tra...</td>\n",
       "      <td>33251</td>\n",
       "      <td>6</td>\n",
       "      <td>0,0,0,1,0</td>\n",
       "    </tr>\n",
       "    <tr>\n",
       "      <th>2</th>\n",
       "      <td>/kaggle/input/chexpert/CheXpert-v1.0-small/tra...</td>\n",
       "      <td>1757</td>\n",
       "      <td>4</td>\n",
       "      <td>1,0,0,0,1</td>\n",
       "    </tr>\n",
       "    <tr>\n",
       "      <th>3</th>\n",
       "      <td>/kaggle/input/chexpert/CheXpert-v1.0-small/tra...</td>\n",
       "      <td>20265</td>\n",
       "      <td>5</td>\n",
       "      <td>0,0,0,0,0</td>\n",
       "    </tr>\n",
       "    <tr>\n",
       "      <th>4</th>\n",
       "      <td>/kaggle/input/chexpert/CheXpert-v1.0-small/tra...</td>\n",
       "      <td>7488</td>\n",
       "      <td>7</td>\n",
       "      <td>0,0,0,1,1</td>\n",
       "    </tr>\n",
       "  </tbody>\n",
       "</table>\n",
       "</div>"
      ],
      "text/plain": [
       "                                                Path  PatientID  fold  \\\n",
       "0  /kaggle/input/chexpert/CheXpert-v1.0-small/tra...      42990     5   \n",
       "1  /kaggle/input/chexpert/CheXpert-v1.0-small/tra...      33251     6   \n",
       "2  /kaggle/input/chexpert/CheXpert-v1.0-small/tra...       1757     4   \n",
       "3  /kaggle/input/chexpert/CheXpert-v1.0-small/tra...      20265     5   \n",
       "4  /kaggle/input/chexpert/CheXpert-v1.0-small/tra...       7488     7   \n",
       "\n",
       "      labels  \n",
       "0  1,0,0,0,0  \n",
       "1  0,0,0,1,0  \n",
       "2  1,0,0,0,1  \n",
       "3  0,0,0,0,0  \n",
       "4  0,0,0,1,1  "
      ]
     },
     "execution_count": 13,
     "metadata": {},
     "output_type": "execute_result"
    }
   ],
   "source": [
    "target_cols = ['Atelectasis', 'Cardiomegaly', 'Consolidation', 'Edema', 'Pleural Effusion']\n",
    "id2label = {i:l for i,l in enumerate(target_cols)}\n",
    "label2id = {l:i for i,l in id2label.items()}\n",
    "\n",
    "test_df_combined = combine_label_cols(test_df, target_cols)\n",
    "fold_0_train.head()"
   ]
  },
  {
   "cell_type": "markdown",
   "id": "d9ba8279",
   "metadata": {
    "papermill": {
     "duration": 0.01147,
     "end_time": "2024-05-21T07:51:14.373953",
     "exception": false,
     "start_time": "2024-05-21T07:51:14.362483",
     "status": "completed"
    },
    "tags": []
   },
   "source": [
    "# Creating a Dataset using Hugging Face Datasets"
   ]
  },
  {
   "cell_type": "code",
   "execution_count": 14,
   "id": "3f387d3b",
   "metadata": {
    "execution": {
     "iopub.execute_input": "2024-05-21T07:51:14.399331Z",
     "iopub.status.busy": "2024-05-21T07:51:14.399027Z",
     "iopub.status.idle": "2024-05-21T07:51:14.640308Z",
     "shell.execute_reply": "2024-05-21T07:51:14.639432Z"
    },
    "papermill": {
     "duration": 0.256246,
     "end_time": "2024-05-21T07:51:14.642242",
     "exception": false,
     "start_time": "2024-05-21T07:51:14.385996",
     "status": "completed"
    },
    "tags": []
   },
   "outputs": [
    {
     "data": {
      "text/plain": [
       "(195851, 27563, 234)"
      ]
     },
     "execution_count": 14,
     "metadata": {},
     "output_type": "execute_result"
    }
   ],
   "source": [
    "train_ds = datasets.Dataset.from_pandas(fold_0_train).cast_column('Path',datasets.Image())\n",
    "valid_ds = datasets.Dataset.from_pandas(fold_0_valid).cast_column('Path',datasets.Image())\n",
    "test_ds = datasets.Dataset.from_pandas(test_df_combined).cast_column('Path',datasets.Image())\n",
    "len(train_ds), len(valid_ds), len(test_ds)"
   ]
  },
  {
   "cell_type": "markdown",
   "id": "56905a7f",
   "metadata": {
    "papermill": {
     "duration": 0.011929,
     "end_time": "2024-05-21T07:51:14.666271",
     "exception": false,
     "start_time": "2024-05-21T07:51:14.654342",
     "status": "completed"
    },
    "tags": []
   },
   "source": [
    "# Training and Validation Augmentations"
   ]
  },
  {
   "cell_type": "code",
   "execution_count": 15,
   "id": "075c5bc9",
   "metadata": {
    "execution": {
     "iopub.execute_input": "2024-05-21T07:51:14.691200Z",
     "iopub.status.busy": "2024-05-21T07:51:14.690926Z",
     "iopub.status.idle": "2024-05-21T07:51:14.697183Z",
     "shell.execute_reply": "2024-05-21T07:51:14.696369Z"
    },
    "papermill": {
     "duration": 0.020768,
     "end_time": "2024-05-21T07:51:14.699093",
     "exception": false,
     "start_time": "2024-05-21T07:51:14.678325",
     "status": "completed"
    },
    "tags": []
   },
   "outputs": [],
   "source": [
    "img_size = 384\n",
    "mean = (0.485,0.456,0.406)\n",
    "std = (0.229,0.224,0.225)\n",
    "train_tfms = A.Compose([\n",
    "    A.Rotate(15),\n",
    "    A.Resize(img_size,img_size),\n",
    "    A.HorizontalFlip(),\n",
    "    A.Normalize(mean=mean,std=std),\n",
    "    ToTensorV2(),\n",
    "])\n",
    "valid_tfms = A.Compose([\n",
    "    A.Resize(img_size,img_size),\n",
    "    A.Normalize(mean=mean,std=std),\n",
    "    ToTensorV2(),\n",
    "])"
   ]
  },
  {
   "cell_type": "code",
   "execution_count": 16,
   "id": "e6af7ec3",
   "metadata": {
    "execution": {
     "iopub.execute_input": "2024-05-21T07:51:14.724263Z",
     "iopub.status.busy": "2024-05-21T07:51:14.723776Z",
     "iopub.status.idle": "2024-05-21T07:51:14.730955Z",
     "shell.execute_reply": "2024-05-21T07:51:14.730163Z"
    },
    "papermill": {
     "duration": 0.0218,
     "end_time": "2024-05-21T07:51:14.732775",
     "exception": false,
     "start_time": "2024-05-21T07:51:14.710975",
     "status": "completed"
    },
    "tags": []
   },
   "outputs": [],
   "source": [
    "def train_transforms(batch):\n",
    "    batch['image'] = [np.array(x.convert('RGB')) for x in batch['Path']]\n",
    "    batch['image'] = [train_tfms(image=x)['image'] for x in batch['image']]\n",
    "    batch['labels'] = [list(map(int,l.split(','))) for l in batch['labels']]\n",
    "    return batch\n",
    "\n",
    "def valid_transforms(batch):\n",
    "    batch['image'] = [np.array(x.convert('RGB')) for x in batch['Path']]\n",
    "    batch['image'] = [valid_tfms(image=x)['image'] for x in batch['image']]\n",
    "    batch['labels'] = [list(map(int,l.split(','))) for l in batch['labels']]\n",
    "    return batch"
   ]
  },
  {
   "cell_type": "code",
   "execution_count": 17,
   "id": "c07a1a24",
   "metadata": {
    "execution": {
     "iopub.execute_input": "2024-05-21T07:51:14.757620Z",
     "iopub.status.busy": "2024-05-21T07:51:14.757364Z",
     "iopub.status.idle": "2024-05-21T07:51:14.761779Z",
     "shell.execute_reply": "2024-05-21T07:51:14.760954Z"
    },
    "papermill": {
     "duration": 0.019026,
     "end_time": "2024-05-21T07:51:14.763800",
     "exception": false,
     "start_time": "2024-05-21T07:51:14.744774",
     "status": "completed"
    },
    "tags": []
   },
   "outputs": [],
   "source": [
    "def collate_fn(batch):\n",
    "    return {\n",
    "        'pixel_values': torch.stack([x['image'] for x in batch]),\n",
    "        'labels': torch.tensor([x['labels'] for x in batch])\n",
    "    }"
   ]
  },
  {
   "cell_type": "code",
   "execution_count": 18,
   "id": "9f46e220",
   "metadata": {
    "execution": {
     "iopub.execute_input": "2024-05-21T07:51:14.788376Z",
     "iopub.status.busy": "2024-05-21T07:51:14.788111Z",
     "iopub.status.idle": "2024-05-21T07:51:14.804997Z",
     "shell.execute_reply": "2024-05-21T07:51:14.804172Z"
    },
    "papermill": {
     "duration": 0.031449,
     "end_time": "2024-05-21T07:51:14.807016",
     "exception": false,
     "start_time": "2024-05-21T07:51:14.775567",
     "status": "completed"
    },
    "tags": []
   },
   "outputs": [],
   "source": [
    "train_ds = train_ds.with_transform(train_transforms)\n",
    "valid_ds = valid_ds.with_transform(valid_transforms)\n",
    "test_ds = test_ds.with_transform(valid_transforms)"
   ]
  },
  {
   "attachments": {
    "2e548542-29ab-4d69-bd2c-72d92223216e.png": {
     "image/png": "[encoded data removed]"
    }
   },
   "cell_type": "markdown",
   "id": "59082b24",
   "metadata": {
    "papermill": {
     "duration": 0.011621,
     "end_time": "2024-05-21T07:51:14.830664",
     "exception": false,
     "start_time": "2024-05-21T07:51:14.819043",
     "status": "completed"
    },
    "tags": []
   },
   "source": [
    "# Asymmetric Loss\n",
    "\n",
    "- paper: [Asymmetric Loss for multilabel classification](https://arxiv.org/abs/2009.14119)\n",
    "- idea: In this paper, we introduce a novel asymmetric loss (”ASL”), which operates differently on positive and negative samples. The loss enables to dynamically down-weights and hard-thresholds easy negative samples, while also discarding possibly mislabeled samples.\n",
    "\n",
    "![image.png](attachment:2e548542-29ab-4d69-bd2c-72d92223216e.png)\n",
    "\n",
    "- explanation: We propose to decouple the focusing levels of the positive and negative samples. Let γ+ and γ− be the positive and negative focusing parameters, respectively. We obtain asymmetric focusing by redefining the loss: Since we are interested in emphasizing the contribution of positive samples, we usually set γ− > γ+. Asymmetric focusing decouples the decay rates of positive and negative samples. Through this, we achieve better control over the contribution of positive and negative samples to the loss function, and help the network learn meaningful features from positive samples, despite their rarity.\n",
    "\n",
    "\n",
    "> In the previous notebook we had used masking to mask out uncertain labels, here we dont have to do that"
   ]
  },
  {
   "cell_type": "code",
   "execution_count": 19,
   "id": "e9f154ac",
   "metadata": {
    "execution": {
     "iopub.execute_input": "2024-05-21T07:51:14.856124Z",
     "iopub.status.busy": "2024-05-21T07:51:14.855378Z",
     "iopub.status.idle": "2024-05-21T07:51:14.867318Z",
     "shell.execute_reply": "2024-05-21T07:51:14.866496Z"
    },
    "papermill": {
     "duration": 0.026666,
     "end_time": "2024-05-21T07:51:14.869226",
     "exception": false,
     "start_time": "2024-05-21T07:51:14.842560",
     "status": "completed"
    },
    "tags": []
   },
   "outputs": [],
   "source": [
    "class AsymmetricLossOptimized(nn.Module):\n",
    "    ''' Notice - optimized version, minimizes memory allocation and gpu uploading,\n",
    "    favors inplace operations'''\n",
    "\n",
    "    def __init__(self, gamma_neg=4, gamma_pos=1, clip=0.05, eps=1e-8, disable_torch_grad_focal_loss=False):\n",
    "        super(AsymmetricLossOptimized, self).__init__()\n",
    "\n",
    "        self.gamma_neg = gamma_neg\n",
    "        self.gamma_pos = gamma_pos\n",
    "        self.clip = clip\n",
    "        self.disable_torch_grad_focal_loss = disable_torch_grad_focal_loss\n",
    "        self.eps = eps\n",
    "\n",
    "        # prevent memory allocation and gpu uploading every iteration, and encourages inplace operations\n",
    "        self.targets = self.anti_targets = self.xs_pos = self.xs_neg = self.asymmetric_w = self.loss = None\n",
    "\n",
    "    def forward(self, x, y):\n",
    "        \"\"\"\"\n",
    "        Parameters\n",
    "        ----------\n",
    "        x: input logits\n",
    "        y: targets (multi-label binarized vector)\n",
    "        \"\"\"\n",
    "\n",
    "        self.targets = y\n",
    "        self.anti_targets = 1 - y\n",
    "\n",
    "        # Calculating Probabilities\n",
    "        self.xs_pos = torch.sigmoid(x)\n",
    "        self.xs_neg = 1.0 - self.xs_pos\n",
    "\n",
    "        # Asymmetric Clipping\n",
    "        if self.clip is not None and self.clip > 0:\n",
    "            self.xs_neg.add_(self.clip).clamp_(max=1)\n",
    "\n",
    "        # Basic CE calculation\n",
    "        self.loss = self.targets * torch.log(self.xs_pos.clamp(min=self.eps))\n",
    "        self.loss.add_(self.anti_targets * torch.log(self.xs_neg.clamp(min=self.eps)))\n",
    "\n",
    "        # Asymmetric Focusing\n",
    "        if self.gamma_neg > 0 or self.gamma_pos > 0:\n",
    "            if self.disable_torch_grad_focal_loss:\n",
    "                torch.set_grad_enabled(False)\n",
    "            self.xs_pos = self.xs_pos * self.targets\n",
    "            self.xs_neg = self.xs_neg * self.anti_targets\n",
    "            self.asymmetric_w = torch.pow(1 - self.xs_pos - self.xs_neg,\n",
    "                                          self.gamma_pos * self.targets + self.gamma_neg * self.anti_targets)\n",
    "            if self.disable_torch_grad_focal_loss:\n",
    "                torch.set_grad_enabled(True)\n",
    "            self.loss *= self.asymmetric_w\n",
    "   \n",
    "        return -self.loss.mean()"
   ]
  },
  {
   "cell_type": "markdown",
   "id": "04195268",
   "metadata": {
    "papermill": {
     "duration": 0.011727,
     "end_time": "2024-05-21T07:51:14.892868",
     "exception": false,
     "start_time": "2024-05-21T07:51:14.881141",
     "status": "completed"
    },
    "tags": []
   },
   "source": [
    "# Model\n",
    "---\n",
    "we'll be training an entirely fresh model instead of continuing with the previous cheXpert model."
   ]
  },
  {
   "cell_type": "code",
   "execution_count": 20,
   "id": "6416b68d",
   "metadata": {
    "execution": {
     "iopub.execute_input": "2024-05-21T07:51:14.917968Z",
     "iopub.status.busy": "2024-05-21T07:51:14.917676Z",
     "iopub.status.idle": "2024-05-21T07:51:17.139396Z",
     "shell.execute_reply": "2024-05-21T07:51:17.138556Z"
    },
    "papermill": {
     "duration": 2.236553,
     "end_time": "2024-05-21T07:51:17.141550",
     "exception": false,
     "start_time": "2024-05-21T07:51:14.904997",
     "status": "completed"
    },
    "tags": []
   },
   "outputs": [
    {
     "data": {
      "application/vnd.jupyter.widget-view+json": {
       "model_id": "08fffb34fe4242289447231bc0705c6a",
       "version_major": 2,
       "version_minor": 0
      },
      "text/plain": [
       "config.json:   0%|          | 0.00/69.7k [00:00<?, ?B/s]"
      ]
     },
     "metadata": {},
     "output_type": "display_data"
    },
    {
     "data": {
      "application/vnd.jupyter.widget-view+json": {
       "model_id": "6f487a572e594c9ab8f89a14b83c81d7",
       "version_major": 2,
       "version_minor": 0
      },
      "text/plain": [
       "pytorch_model.bin:   0%|          | 0.00/115M [00:00<?, ?B/s]"
      ]
     },
     "metadata": {},
     "output_type": "display_data"
    },
    {
     "name": "stderr",
     "output_type": "stream",
     "text": [
      "/opt/conda/lib/python3.10/site-packages/torch/_utils.py:831: UserWarning: TypedStorage is deprecated. It will be removed in the future and UntypedStorage will be the only storage class. This should only matter to you if you are using storages directly.  To access UntypedStorage directly, use tensor.untyped_storage() instead of tensor.storage()\n",
      "  return self.fget.__get__(instance, owner)()\n",
      "Some weights of ConvNextV2ForImageClassification were not initialized from the model checkpoint at facebook/convnextv2-tiny-22k-384 and are newly initialized because the shapes did not match:\n",
      "- classifier.weight: found shape torch.Size([1000, 768]) in the checkpoint and torch.Size([5, 768]) in the model instantiated\n",
      "- classifier.bias: found shape torch.Size([1000]) in the checkpoint and torch.Size([5]) in the model instantiated\n",
      "You should probably TRAIN this model on a down-stream task to be able to use it for predictions and inference.\n"
     ]
    }
   ],
   "source": [
    "model = AutoModelForImageClassification.from_pretrained(\n",
    "    'facebook/convnextv2-tiny-22k-384',\n",
    "    num_labels=len(label2id),\n",
    "    label2id=label2id,\n",
    "    id2label=id2label,\n",
    "    ignore_mismatched_sizes=True\n",
    ")"
   ]
  },
  {
   "cell_type": "markdown",
   "id": "051574e7",
   "metadata": {
    "papermill": {
     "duration": 0.014741,
     "end_time": "2024-05-21T07:51:17.170181",
     "exception": false,
     "start_time": "2024-05-21T07:51:17.155440",
     "status": "completed"
    },
    "tags": []
   },
   "source": [
    "# Metrics\n",
    "\n",
    "- the metrics used in the CheXpert paper is label-wise `AUROC`\n",
    "- I also included additional metrics: \n",
    "    - label-wise `Specificity`: (true negative rate) is the probability of a negative test result, conditioned on the individual truly being negative.\n",
    "    - `Exact Match`: all the labels for a sample must match exactly\n",
    "    - Hamming Distance: the Hamming distance between two strings or vectors of equal length is the number of positions at which the corresponding symbols are different"
   ]
  },
  {
   "cell_type": "code",
   "execution_count": 21,
   "id": "6e14706c",
   "metadata": {
    "execution": {
     "iopub.execute_input": "2024-05-21T07:51:17.198616Z",
     "iopub.status.busy": "2024-05-21T07:51:17.197865Z",
     "iopub.status.idle": "2024-05-21T07:51:17.206437Z",
     "shell.execute_reply": "2024-05-21T07:51:17.205457Z"
    },
    "papermill": {
     "duration": 0.025003,
     "end_time": "2024-05-21T07:51:17.208435",
     "exception": false,
     "start_time": "2024-05-21T07:51:17.183432",
     "status": "completed"
    },
    "tags": []
   },
   "outputs": [],
   "source": [
    "def compute_metrics(eval_preds):\n",
    "    \"\"\"\n",
    "    ignore_index=-1 is unnecessary since we dont have uncertain labels anymore \n",
    "                    but keeping it for consistency\n",
    "    \"\"\"\n",
    "    target_cols = ['Atelectasis', 'Cardiomegaly', 'Consolidation', 'Edema', 'Pleural Effusion']\n",
    "    logits, labels = eval_preds\n",
    "    logits, labels = torch.from_numpy(logits), torch.from_numpy(labels).long()\n",
    "    auroc = multilabel_auroc(logits, labels,num_labels=5,ignore_index=-1,average='none').numpy()\n",
    "    exact_match = multilabel_exact_match(logits, labels, num_labels=5,ignore_index=-1).item()\n",
    "    specificity = multilabel_specificity(logits, labels, num_labels=5,ignore_index=-1,average='none').numpy()\n",
    "    hamming_dist = multilabel_hamming_distance(logits, labels, num_labels=5,ignore_index=-1).item()\n",
    "    \n",
    "    auroc_values = {f\"auroc_{c}\":a for c,a in zip(target_cols, auroc)}\n",
    "    specificity_values = {f\"specificity_{c}\":a for c,a in zip(target_cols, specificity)}\n",
    "    return {\n",
    "        **auroc_values,\n",
    "        **specificity_values,\n",
    "        'exact_match': exact_match,\n",
    "        'hamming_distance': hamming_dist\n",
    "    }"
   ]
  },
  {
   "cell_type": "markdown",
   "id": "25830ac9",
   "metadata": {
    "papermill": {
     "duration": 0.01336,
     "end_time": "2024-05-21T07:51:17.235198",
     "exception": false,
     "start_time": "2024-05-21T07:51:17.221838",
     "status": "completed"
    },
    "tags": []
   },
   "source": [
    "# Trainer"
   ]
  },
  {
   "cell_type": "code",
   "execution_count": 22,
   "id": "a40ea243",
   "metadata": {
    "execution": {
     "iopub.execute_input": "2024-05-21T07:51:17.304816Z",
     "iopub.status.busy": "2024-05-21T07:51:17.303915Z",
     "iopub.status.idle": "2024-05-21T07:51:17.309663Z",
     "shell.execute_reply": "2024-05-21T07:51:17.308767Z"
    },
    "papermill": {
     "duration": 0.062983,
     "end_time": "2024-05-21T07:51:17.311594",
     "exception": false,
     "start_time": "2024-05-21T07:51:17.248611",
     "status": "completed"
    },
    "tags": []
   },
   "outputs": [],
   "source": [
    "class ChexpertTrainer(Trainer):\n",
    "    def compute_loss(self, model, inputs, return_outputs=False):\n",
    "        labels = inputs.pop('labels')\n",
    "        outputs = model(**inputs)\n",
    "        loss = AsymmetricLossOptimized(gamma_neg=3)(outputs.logits, labels)\n",
    "        \n",
    "        return (loss, outputs) if return_outputs else loss"
   ]
  },
  {
   "cell_type": "code",
   "execution_count": 23,
   "id": "16d9ba58",
   "metadata": {
    "execution": {
     "iopub.execute_input": "2024-05-21T07:51:17.342758Z",
     "iopub.status.busy": "2024-05-21T07:51:17.342410Z",
     "iopub.status.idle": "2024-05-21T07:51:17.489287Z",
     "shell.execute_reply": "2024-05-21T07:51:17.488072Z"
    },
    "papermill": {
     "duration": 0.164867,
     "end_time": "2024-05-21T07:51:17.491617",
     "exception": false,
     "start_time": "2024-05-21T07:51:17.326750",
     "status": "completed"
    },
    "tags": []
   },
   "outputs": [],
   "source": [
    "training_args = TrainingArguments(\n",
    "    output_dir=\"./CheXpert-5-convnextv2-tiny-384\",\n",
    "    per_device_train_batch_size=16,\n",
    "    per_device_eval_batch_size=16,\n",
    "    dataloader_num_workers=4,\n",
    "    do_eval=True,\n",
    "    dataloader_drop_last=True,\n",
    "    eval_strategy=\"epoch\",\n",
    "    save_strategy=\"epoch\",\n",
    "    logging_strategy=\"steps\",\n",
    "    logging_steps=500,\n",
    "    lr_scheduler_type='cosine',\n",
    "    warmup_steps=2500,\n",
    "    num_train_epochs=6,\n",
    "    learning_rate=1e-3,\n",
    "    weight_decay=0.02,\n",
    "    remove_unused_columns=False,\n",
    "    push_to_hub=True,\n",
    "    report_to='tensorboard',\n",
    "    load_best_model_at_end=True,\n",
    ")"
   ]
  },
  {
   "cell_type": "code",
   "execution_count": 24,
   "id": "9bc8c8c9",
   "metadata": {
    "execution": {
     "iopub.execute_input": "2024-05-21T07:51:17.521626Z",
     "iopub.status.busy": "2024-05-21T07:51:17.521296Z",
     "iopub.status.idle": "2024-05-21T07:51:18.863431Z",
     "shell.execute_reply": "2024-05-21T07:51:18.862339Z"
    },
    "papermill": {
     "duration": 1.359717,
     "end_time": "2024-05-21T07:51:18.866511",
     "exception": false,
     "start_time": "2024-05-21T07:51:17.506794",
     "status": "completed"
    },
    "tags": []
   },
   "outputs": [],
   "source": [
    "trainer = ChexpertTrainer(\n",
    "    model=model,\n",
    "    args=training_args,\n",
    "    data_collator=collate_fn,\n",
    "    compute_metrics=compute_metrics,\n",
    "    train_dataset=train_ds,\n",
    "    eval_dataset=valid_ds\n",
    ")"
   ]
  },
  {
   "cell_type": "code",
   "execution_count": 25,
   "id": "dff60329",
   "metadata": {
    "execution": {
     "iopub.execute_input": "2024-05-21T07:51:18.897427Z",
     "iopub.status.busy": "2024-05-21T07:51:18.897129Z",
     "iopub.status.idle": "2024-05-21T17:06:51.915100Z",
     "shell.execute_reply": "2024-05-21T17:06:51.914081Z"
    },
    "papermill": {
     "duration": 33333.034054,
     "end_time": "2024-05-21T17:06:51.917377",
     "exception": false,
     "start_time": "2024-05-21T07:51:18.883323",
     "status": "completed"
    },
    "tags": []
   },
   "outputs": [
    {
     "data": {
      "text/html": [
       "\n",
       "    <div>\n",
       "      \n",
       "      <progress value='36720' max='36720' style='width:300px; height:20px; vertical-align: middle;'></progress>\n",
       "      [36720/36720 9:15:21, Epoch 6/6]\n",
       "    </div>\n",
       "    <table border=\"1\" class=\"dataframe\">\n",
       "  <thead>\n",
       " <tr style=\"text-align: left;\">\n",
       "      <th>Epoch</th>\n",
       "      <th>Training Loss</th>\n",
       "      <th>Validation Loss</th>\n",
       "      <th>Auroc Atelectasis</th>\n",
       "      <th>Auroc Cardiomegaly</th>\n",
       "      <th>Auroc Consolidation</th>\n",
       "      <th>Auroc Edema</th>\n",
       "      <th>Auroc Pleural effusion</th>\n",
       "      <th>Specificity Atelectasis</th>\n",
       "      <th>Specificity Cardiomegaly</th>\n",
       "      <th>Specificity Consolidation</th>\n",
       "      <th>Specificity Edema</th>\n",
       "      <th>Specificity Pleural effusion</th>\n",
       "      <th>Exact Match</th>\n",
       "      <th>Hamming Distance</th>\n",
       "    </tr>\n",
       "  </thead>\n",
       "  <tbody>\n",
       "    <tr>\n",
       "      <td>1</td>\n",
       "      <td>0.089100</td>\n",
       "      <td>0.089329</td>\n",
       "      <td>0.732329</td>\n",
       "      <td>0.836649</td>\n",
       "      <td>0.702013</td>\n",
       "      <td>0.838670</td>\n",
       "      <td>0.870152</td>\n",
       "      <td>0.451037</td>\n",
       "      <td>0.966127</td>\n",
       "      <td>1.000000</td>\n",
       "      <td>0.659562</td>\n",
       "      <td>0.539202</td>\n",
       "      <td>0.261578</td>\n",
       "      <td>0.244425</td>\n",
       "    </tr>\n",
       "    <tr>\n",
       "      <td>2</td>\n",
       "      <td>0.085400</td>\n",
       "      <td>0.083060</td>\n",
       "      <td>0.753476</td>\n",
       "      <td>0.855615</td>\n",
       "      <td>0.734970</td>\n",
       "      <td>0.865072</td>\n",
       "      <td>0.888145</td>\n",
       "      <td>0.729304</td>\n",
       "      <td>0.904242</td>\n",
       "      <td>0.993585</td>\n",
       "      <td>0.708267</td>\n",
       "      <td>0.625922</td>\n",
       "      <td>0.357070</td>\n",
       "      <td>0.197263</td>\n",
       "    </tr>\n",
       "    <tr>\n",
       "      <td>3</td>\n",
       "      <td>0.082000</td>\n",
       "      <td>0.082400</td>\n",
       "      <td>0.768300</td>\n",
       "      <td>0.869640</td>\n",
       "      <td>0.747261</td>\n",
       "      <td>0.871969</td>\n",
       "      <td>0.896068</td>\n",
       "      <td>0.695554</td>\n",
       "      <td>0.819621</td>\n",
       "      <td>0.988104</td>\n",
       "      <td>0.608715</td>\n",
       "      <td>0.661060</td>\n",
       "      <td>0.329849</td>\n",
       "      <td>0.217690</td>\n",
       "    </tr>\n",
       "    <tr>\n",
       "      <td>4</td>\n",
       "      <td>0.079900</td>\n",
       "      <td>0.080230</td>\n",
       "      <td>0.774888</td>\n",
       "      <td>0.871990</td>\n",
       "      <td>0.756199</td>\n",
       "      <td>0.878270</td>\n",
       "      <td>0.900502</td>\n",
       "      <td>0.745048</td>\n",
       "      <td>0.883055</td>\n",
       "      <td>0.960773</td>\n",
       "      <td>0.734064</td>\n",
       "      <td>0.698449</td>\n",
       "      <td>0.380226</td>\n",
       "      <td>0.188030</td>\n",
       "    </tr>\n",
       "    <tr>\n",
       "      <td>5</td>\n",
       "      <td>0.075900</td>\n",
       "      <td>0.079298</td>\n",
       "      <td>0.779508</td>\n",
       "      <td>0.874582</td>\n",
       "      <td>0.758260</td>\n",
       "      <td>0.881833</td>\n",
       "      <td>0.903021</td>\n",
       "      <td>0.727688</td>\n",
       "      <td>0.894821</td>\n",
       "      <td>0.971114</td>\n",
       "      <td>0.761803</td>\n",
       "      <td>0.704452</td>\n",
       "      <td>0.386941</td>\n",
       "      <td>0.182346</td>\n",
       "    </tr>\n",
       "    <tr>\n",
       "      <td>6</td>\n",
       "      <td>0.073900</td>\n",
       "      <td>0.079802</td>\n",
       "      <td>0.778702</td>\n",
       "      <td>0.872732</td>\n",
       "      <td>0.756064</td>\n",
       "      <td>0.881221</td>\n",
       "      <td>0.903072</td>\n",
       "      <td>0.746064</td>\n",
       "      <td>0.892141</td>\n",
       "      <td>0.969015</td>\n",
       "      <td>0.748655</td>\n",
       "      <td>0.707390</td>\n",
       "      <td>0.388611</td>\n",
       "      <td>0.182361</td>\n",
       "    </tr>\n",
       "  </tbody>\n",
       "</table><p>"
      ],
      "text/plain": [
       "<IPython.core.display.HTML object>"
      ]
     },
     "metadata": {},
     "output_type": "display_data"
    },
    {
     "data": {
      "text/plain": [
       "TrainOutput(global_step=36720, training_loss=0.08228830044565637, metrics={'train_runtime': 33327.5761, 'train_samples_per_second': 35.259, 'train_steps_per_second': 1.102, 'total_flos': 8.69220353500722e+19, 'train_loss': 0.08228830044565637, 'epoch': 6.0})"
      ]
     },
     "execution_count": 25,
     "metadata": {},
     "output_type": "execute_result"
    }
   ],
   "source": [
    "trainer.train()"
   ]
  },
  {
   "cell_type": "code",
   "execution_count": 26,
   "id": "cbaea4fa",
   "metadata": {
    "execution": {
     "iopub.execute_input": "2024-05-21T17:06:51.946392Z",
     "iopub.status.busy": "2024-05-21T17:06:51.946047Z",
     "iopub.status.idle": "2024-05-21T17:06:55.148348Z",
     "shell.execute_reply": "2024-05-21T17:06:55.147472Z"
    },
    "papermill": {
     "duration": 3.219173,
     "end_time": "2024-05-21T17:06:55.150343",
     "exception": false,
     "start_time": "2024-05-21T17:06:51.931170",
     "status": "completed"
    },
    "tags": []
   },
   "outputs": [
    {
     "data": {
      "text/html": [
       "\n",
       "    <div>\n",
       "      \n",
       "      <progress value='7' max='7' style='width:300px; height:20px; vertical-align: middle;'></progress>\n",
       "      [7/7 00:01]\n",
       "    </div>\n",
       "    "
      ],
      "text/plain": [
       "<IPython.core.display.HTML object>"
      ]
     },
     "metadata": {},
     "output_type": "display_data"
    },
    {
     "data": {
      "text/plain": [
       "{'eval_loss': 0.1008862853050232,\n",
       " 'eval_auroc_Atelectasis': 0.7943280935287476,\n",
       " 'eval_auroc_Cardiomegaly': 0.8186613321304321,\n",
       " 'eval_auroc_Consolidation': 0.9268602728843689,\n",
       " 'eval_auroc_Edema': 0.9233385920524597,\n",
       " 'eval_auroc_Pleural Effusion': 0.9315304756164551,\n",
       " 'eval_specificity_Atelectasis': 0.7891156673431396,\n",
       " 'eval_specificity_Cardiomegaly': 1.0,\n",
       " 'eval_specificity_Consolidation': 0.9947643876075745,\n",
       " 'eval_specificity_Edema': 0.8406593203544617,\n",
       " 'eval_specificity_Pleural Effusion': 0.8037974834442139,\n",
       " 'eval_exact_match': 0.4464285671710968,\n",
       " 'eval_hamming_distance': 0.1803571581840515,\n",
       " 'eval_runtime': 3.1924,\n",
       " 'eval_samples_per_second': 73.3,\n",
       " 'eval_steps_per_second': 2.506,\n",
       " 'epoch': 6.0}"
      ]
     },
     "execution_count": 26,
     "metadata": {},
     "output_type": "execute_result"
    }
   ],
   "source": [
    "trainer.evaluate(test_ds)"
   ]
  },
  {
   "cell_type": "markdown",
   "id": "e6334574",
   "metadata": {
    "papermill": {
     "duration": 0.013791,
     "end_time": "2024-05-21T17:06:55.178096",
     "exception": false,
     "start_time": "2024-05-21T17:06:55.164305",
     "status": "completed"
    },
    "tags": []
   },
   "source": [
    "# Uploading model to HF Hub"
   ]
  },
  {
   "cell_type": "code",
   "execution_count": 27,
   "id": "9dcfabe2",
   "metadata": {
    "execution": {
     "iopub.execute_input": "2024-05-21T17:06:55.208182Z",
     "iopub.status.busy": "2024-05-21T17:06:55.207784Z",
     "iopub.status.idle": "2024-05-21T17:06:59.551606Z",
     "shell.execute_reply": "2024-05-21T17:06:59.550624Z"
    },
    "papermill": {
     "duration": 4.36159,
     "end_time": "2024-05-21T17:06:59.553836",
     "exception": false,
     "start_time": "2024-05-21T17:06:55.192246",
     "status": "completed"
    },
    "tags": []
   },
   "outputs": [
    {
     "data": {
      "application/vnd.jupyter.widget-view+json": {
       "model_id": "a75e0a2ba3c642b5aa543d04c4a21576",
       "version_major": 2,
       "version_minor": 0
      },
      "text/plain": [
       "events.out.tfevents.1716311215.b0835b462e36.24.1:   0%|          | 0.00/1.14k [00:00<?, ?B/s]"
      ]
     },
     "metadata": {},
     "output_type": "display_data"
    },
    {
     "data": {
      "text/plain": [
       "CommitInfo(commit_url='https://huggingface.co/shreydan/CheXpert-5-convnextv2-tiny-384/commit/44822e75a0f4a4d543dfe8e8229bad0665d9696c', commit_message='CheXpert 5 labels \\U0001fa7b', commit_description='', oid='44822e75a0f4a4d543dfe8e8229bad0665d9696c', pr_url=None, pr_revision=None, pr_num=None)"
      ]
     },
     "execution_count": 27,
     "metadata": {},
     "output_type": "execute_result"
    }
   ],
   "source": [
    "kwargs = {\n",
    "    \"finetuned_from\": model.config._name_or_path,\n",
    "    \"tasks\": \"image-classification\",\n",
    "    \"tags\": ['image-classification'],\n",
    "}\n",
    "trainer.save_model()\n",
    "trainer.push_to_hub('CheXpert 5 labels 🩻', **kwargs)"
   ]
  },
  {
   "cell_type": "markdown",
   "id": "419939fa",
   "metadata": {
    "papermill": {
     "duration": 0.013809,
     "end_time": "2024-05-21T17:06:59.582213",
     "exception": false,
     "start_time": "2024-05-21T17:06:59.568404",
     "status": "completed"
    },
    "tags": []
   },
   "source": [
    "# Thank You for Checking Out My Work!\n",
    "\n",
    "## Follow [**@shreydan**](https://kaggle.com/shreydan) if you haven't already!"
   ]
  }
 ],
 "metadata": {
  "kaggle": {
   "accelerator": "nvidiaTeslaT4",
   "dataSources": [
    {
     "datasetId": 955838,
     "sourceId": 1618416,
     "sourceType": "datasetVersion"
    },
    {
     "sourceId": 178809658,
     "sourceType": "kernelVersion"
    }
   ],
   "dockerImageVersionId": 30699,
   "isGpuEnabled": true,
   "isInternetEnabled": true,
   "language": "python",
   "sourceType": "notebook"
  },
  "kernelspec": {
   "display_name": "Python 3",
   "language": "python",
   "name": "python3"
  },
  "language_info": {
   "codemirror_mode": {
    "name": "ipython",
    "version": 3
   },
   "file_extension": ".py",
   "mimetype": "text/x-python",
   "name": "python",
   "nbconvert_exporter": "python",
   "pygments_lexer": "ipython3",
   "version": "3.10.13"
  },
  "papermill": {
   "default_parameters": {},
   "duration": 33401.266947,
   "end_time": "2024-05-21T17:07:02.603267",
   "environment_variables": {},
   "exception": null,
   "input_path": "__notebook__.ipynb",
   "output_path": "__notebook__.ipynb",
   "parameters": {},
   "start_time": "2024-05-21T07:50:21.336320",
   "version": "2.5.0"
  },
  "widgets": {
   "application/vnd.jupyter.widget-state+json": {
    "state": {
     "00fe4793a241403d94691f8092136a6c": {
      "model_module": "@jupyter-widgets/base",
      "model_module_version": "1.2.0",
      "model_name": "LayoutModel",
      "state": {
       "_model_module": "@jupyter-widgets/base",
       "_model_module_version": "1.2.0",
       "_model_name": "LayoutModel",
       "_view_count": null,
       "_view_module": "@jupyter-widgets/base",
       "_view_module_version": "1.2.0",
       "_view_name": "LayoutView",
       "align_content": null,
       "align_items": null,
       "align_self": null,
       "border": null,
       "bottom": null,
       "display": null,
       "flex": null,
       "flex_flow": null,
       "grid_area": null,
       "grid_auto_columns": null,
       "grid_auto_flow": null,
       "grid_auto_rows": null,
       "grid_column": null,
       "grid_gap": null,
       "grid_row": null,
       "grid_template_areas": null,
       "grid_template_columns": null,
       "grid_template_rows": null,
       "height": null,
       "justify_content": null,
       "justify_items": null,
       "left": null,
       "margin": null,
       "max_height": null,
       "max_width": null,
       "min_height": null,
       "min_width": null,
       "object_fit": null,
       "object_position": null,
       "order": null,
       "overflow": null,
       "overflow_x": null,
       "overflow_y": null,
       "padding": null,
       "right": null,
       "top": null,
       "visibility": null,
       "width": null
      }
     },
     "0119c44e50064ea49b54502d1430f04f": {
      "model_module": "@jupyter-widgets/controls",
      "model_module_version": "1.5.0",
      "model_name": "ProgressStyleModel",
      "state": {
       "_model_module": "@jupyter-widgets/controls",
       "_model_module_version": "1.5.0",
       "_model_name": "ProgressStyleModel",
       "_view_count": null,
       "_view_module": "@jupyter-widgets/base",
       "_view_module_version": "1.2.0",
       "_view_name": "StyleView",
       "bar_color": null,
       "description_width": ""
      }
     },
     "01c8cf50b728432c82686e0a999a625f": {
      "model_module": "@jupyter-widgets/controls",
      "model_module_version": "1.5.0",
      "model_name": "FloatProgressModel",
      "state": {
       "_dom_classes": [],
       "_model_module": "@jupyter-widgets/controls",
       "_model_module_version": "1.5.0",
       "_model_name": "FloatProgressModel",
       "_view_count": null,
       "_view_module": "@jupyter-widgets/controls",
       "_view_module_version": "1.5.0",
       "_view_name": "ProgressView",
       "bar_style": "success",
       "description": "",
       "description_tooltip": null,
       "layout": "IPY_MODEL_0ef335ca90a248e8a3b42b2c66f878ef",
       "max": 234.0,
       "min": 0.0,
       "orientation": "horizontal",
       "style": "IPY_MODEL_eee7c4461f5e481297fc5d7a14d8e616",
       "value": 234.0
      }
     },
     "08fffb34fe4242289447231bc0705c6a": {
      "model_module": "@jupyter-widgets/controls",
      "model_module_version": "1.5.0",
      "model_name": "HBoxModel",
      "state": {
       "_dom_classes": [],
       "_model_module": "@jupyter-widgets/controls",
       "_model_module_version": "1.5.0",
       "_model_name": "HBoxModel",
       "_view_count": null,
       "_view_module": "@jupyter-widgets/controls",
       "_view_module_version": "1.5.0",
       "_view_name": "HBoxView",
       "box_style": "",
       "children": [
        "IPY_MODEL_692b35e9ec0d4ab69f2032aaa8cf704a",
        "IPY_MODEL_6a4c789ba1ca4839adec7beb6fe05151",
        "IPY_MODEL_58fdefff7c724931af4bd96ae567a485"
       ],
       "layout": "IPY_MODEL_3be1c30947d742b09dcfc1f44598edc9"
      }
     },
     "09a915b4a63b420a9e5ffec9bc8a98fd": {
      "model_module": "@jupyter-widgets/base",
      "model_module_version": "1.2.0",
      "model_name": "LayoutModel",
      "state": {
       "_model_module": "@jupyter-widgets/base",
       "_model_module_version": "1.2.0",
       "_model_name": "LayoutModel",
       "_view_count": null,
       "_view_module": "@jupyter-widgets/base",
       "_view_module_version": "1.2.0",
       "_view_name": "LayoutView",
       "align_content": null,
       "align_items": null,
       "align_self": null,
       "border": null,
       "bottom": null,
       "display": null,
       "flex": null,
       "flex_flow": null,
       "grid_area": null,
       "grid_auto_columns": null,
       "grid_auto_flow": null,
       "grid_auto_rows": null,
       "grid_column": null,
       "grid_gap": null,
       "grid_row": null,
       "grid_template_areas": null,
       "grid_template_columns": null,
       "grid_template_rows": null,
       "height": null,
       "justify_content": null,
       "justify_items": null,
       "left": null,
       "margin": null,
       "max_height": null,
       "max_width": null,
       "min_height": null,
       "min_width": null,
       "object_fit": null,
       "object_position": null,
       "order": null,
       "overflow": null,
       "overflow_x": null,
       "overflow_y": null,
       "padding": null,
       "right": null,
       "top": null,
       "visibility": null,
       "width": null
      }
     },
     "0c0c333ff27c4a6796ed03000ee88890": {
      "model_module": "@jupyter-widgets/base",
      "model_module_version": "1.2.0",
      "model_name": "LayoutModel",
      "state": {
       "_model_module": "@jupyter-widgets/base",
       "_model_module_version": "1.2.0",
       "_model_name": "LayoutModel",
       "_view_count": null,
       "_view_module": "@jupyter-widgets/base",
       "_view_module_version": "1.2.0",
       "_view_name": "LayoutView",
       "align_content": null,
       "align_items": null,
       "align_self": null,
       "border": null,
       "bottom": null,
       "display": null,
       "flex": null,
       "flex_flow": null,
       "grid_area": null,
       "grid_auto_columns": null,
       "grid_auto_flow": null,
       "grid_auto_rows": null,
       "grid_column": null,
       "grid_gap": null,
       "grid_row": null,
       "grid_template_areas": null,
       "grid_template_columns": null,
       "grid_template_rows": null,
       "height": null,
       "justify_content": null,
       "justify_items": null,
       "left": null,
       "margin": null,
       "max_height": null,
       "max_width": null,
       "min_height": null,
       "min_width": null,
       "object_fit": null,
       "object_position": null,
       "order": null,
       "overflow": null,
       "overflow_x": null,
       "overflow_y": null,
       "padding": null,
       "right": null,
       "top": null,
       "visibility": null,
       "width": null
      }
     },
     "0ef335ca90a248e8a3b42b2c66f878ef": {
      "model_module": "@jupyter-widgets/base",
      "model_module_version": "1.2.0",
      "model_name": "LayoutModel",
      "state": {
       "_model_module": "@jupyter-widgets/base",
       "_model_module_version": "1.2.0",
       "_model_name": "LayoutModel",
       "_view_count": null,
       "_view_module": "@jupyter-widgets/base",
       "_view_module_version": "1.2.0",
       "_view_name": "LayoutView",
       "align_content": null,
       "align_items": null,
       "align_self": null,
       "border": null,
       "bottom": null,
       "display": null,
       "flex": null,
       "flex_flow": null,
       "grid_area": null,
       "grid_auto_columns": null,
       "grid_auto_flow": null,
       "grid_auto_rows": null,
       "grid_column": null,
       "grid_gap": null,
       "grid_row": null,
       "grid_template_areas": null,
       "grid_template_columns": null,
       "grid_template_rows": null,
       "height": null,
       "justify_content": null,
       "justify_items": null,
       "left": null,
       "margin": null,
       "max_height": null,
       "max_width": null,
       "min_height": null,
       "min_width": null,
       "object_fit": null,
       "object_position": null,
       "order": null,
       "overflow": null,
       "overflow_x": null,
       "overflow_y": null,
       "padding": null,
       "right": null,
       "top": null,
       "visibility": null,
       "width": null
      }
     },
     "1209354fc1d04edfabe81f5bb5971002": {
      "model_module": "@jupyter-widgets/controls",
      "model_module_version": "1.5.0",
      "model_name": "HTMLModel",
      "state": {
       "_dom_classes": [],
       "_model_module": "@jupyter-widgets/controls",
       "_model_module_version": "1.5.0",
       "_model_name": "HTMLModel",
       "_view_count": null,
       "_view_module": "@jupyter-widgets/controls",
       "_view_module_version": "1.5.0",
       "_view_name": "HTMLView",
       "description": "",
       "description_tooltip": null,
       "layout": "IPY_MODEL_15e2232744b74922ad734b47a31bc8cf",
       "placeholder": "​",
       "style": "IPY_MODEL_b4be99c39eec40f19fa10e2ded4560bb",
       "value": " 234/234 [00:00&lt;00:00, 15888.54it/s]"
      }
     },
     "15e2232744b74922ad734b47a31bc8cf": {
      "model_module": "@jupyter-widgets/base",
      "model_module_version": "1.2.0",
      "model_name": "LayoutModel",
      "state": {
       "_model_module": "@jupyter-widgets/base",
       "_model_module_version": "1.2.0",
       "_model_name": "LayoutModel",
       "_view_count": null,
       "_view_module": "@jupyter-widgets/base",
       "_view_module_version": "1.2.0",
       "_view_name": "LayoutView",
       "align_content": null,
       "align_items": null,
       "align_self": null,
       "border": null,
       "bottom": null,
       "display": null,
       "flex": null,
       "flex_flow": null,
       "grid_area": null,
       "grid_auto_columns": null,
       "grid_auto_flow": null,
       "grid_auto_rows": null,
       "grid_column": null,
       "grid_gap": null,
       "grid_row": null,
       "grid_template_areas": null,
       "grid_template_columns": null,
       "grid_template_rows": null,
       "height": null,
       "justify_content": null,
       "justify_items": null,
       "left": null,
       "margin": null,
       "max_height": null,
       "max_width": null,
       "min_height": null,
       "min_width": null,
       "object_fit": null,
       "object_position": null,
       "order": null,
       "overflow": null,
       "overflow_x": null,
       "overflow_y": null,
       "padding": null,
       "right": null,
       "top": null,
       "visibility": null,
       "width": null
      }
     },
     "204daea8ddb34bce93b15fc2df9f585f": {
      "model_module": "@jupyter-widgets/controls",
      "model_module_version": "1.5.0",
      "model_name": "ProgressStyleModel",
      "state": {
       "_model_module": "@jupyter-widgets/controls",
       "_model_module_version": "1.5.0",
       "_model_name": "ProgressStyleModel",
       "_view_count": null,
       "_view_module": "@jupyter-widgets/base",
       "_view_module_version": "1.2.0",
       "_view_name": "StyleView",
       "bar_color": null,
       "description_width": ""
      }
     },
     "2468808d427b4d539b879343feedcc19": {
      "model_module": "@jupyter-widgets/controls",
      "model_module_version": "1.5.0",
      "model_name": "HTMLModel",
      "state": {
       "_dom_classes": [],
       "_model_module": "@jupyter-widgets/controls",
       "_model_module_version": "1.5.0",
       "_model_name": "HTMLModel",
       "_view_count": null,
       "_view_module": "@jupyter-widgets/controls",
       "_view_module_version": "1.5.0",
       "_view_name": "HTMLView",
       "description": "",
       "description_tooltip": null,
       "layout": "IPY_MODEL_9733ef87b4a0414ca1580b85fffbdf13",
       "placeholder": "​",
       "style": "IPY_MODEL_b3448c1278a14b79b559c14c963b70d1",
       "value": " 115M/115M [00:00&lt;00:00, 153MB/s]"
      }
     },
     "2a2285899e4d4a35825daa561bb16cf8": {
      "model_module": "@jupyter-widgets/base",
      "model_module_version": "1.2.0",
      "model_name": "LayoutModel",
      "state": {
       "_model_module": "@jupyter-widgets/base",
       "_model_module_version": "1.2.0",
       "_model_name": "LayoutModel",
       "_view_count": null,
       "_view_module": "@jupyter-widgets/base",
       "_view_module_version": "1.2.0",
       "_view_name": "LayoutView",
       "align_content": null,
       "align_items": null,
       "align_self": null,
       "border": null,
       "bottom": null,
       "display": null,
       "flex": null,
       "flex_flow": null,
       "grid_area": null,
       "grid_auto_columns": null,
       "grid_auto_flow": null,
       "grid_auto_rows": null,
       "grid_column": null,
       "grid_gap": null,
       "grid_row": null,
       "grid_template_areas": null,
       "grid_template_columns": null,
       "grid_template_rows": null,
       "height": null,
       "justify_content": null,
       "justify_items": null,
       "left": null,
       "margin": null,
       "max_height": null,
       "max_width": null,
       "min_height": null,
       "min_width": null,
       "object_fit": null,
       "object_position": null,
       "order": null,
       "overflow": null,
       "overflow_x": null,
       "overflow_y": null,
       "padding": null,
       "right": null,
       "top": null,
       "visibility": null,
       "width": null
      }
     },
     "2e9922b1f9764dc69048b0e0d8baa7f2": {
      "model_module": "@jupyter-widgets/controls",
      "model_module_version": "1.5.0",
      "model_name": "DescriptionStyleModel",
      "state": {
       "_model_module": "@jupyter-widgets/controls",
       "_model_module_version": "1.5.0",
       "_model_name": "DescriptionStyleModel",
       "_view_count": null,
       "_view_module": "@jupyter-widgets/base",
       "_view_module_version": "1.2.0",
       "_view_name": "StyleView",
       "description_width": ""
      }
     },
     "351db656689a4e09a492a0ac0fdf44ad": {
      "model_module": "@jupyter-widgets/controls",
      "model_module_version": "1.5.0",
      "model_name": "FloatProgressModel",
      "state": {
       "_dom_classes": [],
       "_model_module": "@jupyter-widgets/controls",
       "_model_module_version": "1.5.0",
       "_model_name": "FloatProgressModel",
       "_view_count": null,
       "_view_module": "@jupyter-widgets/controls",
       "_view_module_version": "1.5.0",
       "_view_name": "ProgressView",
       "bar_style": "success",
       "description": "",
       "description_tooltip": null,
       "layout": "IPY_MODEL_8394087e2f1549748c0f7c8ebff1507d",
       "max": 114608365.0,
       "min": 0.0,
       "orientation": "horizontal",
       "style": "IPY_MODEL_a93dbdacf89544ad93c3576f98088a4b",
       "value": 114608365.0
      }
     },
     "3b32bfa2c5ce425bac5ca95b1e0c25a5": {
      "model_module": "@jupyter-widgets/controls",
      "model_module_version": "1.5.0",
      "model_name": "DescriptionStyleModel",
      "state": {
       "_model_module": "@jupyter-widgets/controls",
       "_model_module_version": "1.5.0",
       "_model_name": "DescriptionStyleModel",
       "_view_count": null,
       "_view_module": "@jupyter-widgets/base",
       "_view_module_version": "1.2.0",
       "_view_name": "StyleView",
       "description_width": ""
      }
     },
     "3be1c30947d742b09dcfc1f44598edc9": {
      "model_module": "@jupyter-widgets/base",
      "model_module_version": "1.2.0",
      "model_name": "LayoutModel",
      "state": {
       "_model_module": "@jupyter-widgets/base",
       "_model_module_version": "1.2.0",
       "_model_name": "LayoutModel",
       "_view_count": null,
       "_view_module": "@jupyter-widgets/base",
       "_view_module_version": "1.2.0",
       "_view_name": "LayoutView",
       "align_content": null,
       "align_items": null,
       "align_self": null,
       "border": null,
       "bottom": null,
       "display": null,
       "flex": null,
       "flex_flow": null,
       "grid_area": null,
       "grid_auto_columns": null,
       "grid_auto_flow": null,
       "grid_auto_rows": null,
       "grid_column": null,
       "grid_gap": null,
       "grid_row": null,
       "grid_template_areas": null,
       "grid_template_columns": null,
       "grid_template_rows": null,
       "height": null,
       "justify_content": null,
       "justify_items": null,
       "left": null,
       "margin": null,
       "max_height": null,
       "max_width": null,
       "min_height": null,
       "min_width": null,
       "object_fit": null,
       "object_position": null,
       "order": null,
       "overflow": null,
       "overflow_x": null,
       "overflow_y": null,
       "padding": null,
       "right": null,
       "top": null,
       "visibility": null,
       "width": null
      }
     },
     "4b50741130024e3a8949d65d933ff81f": {
      "model_module": "@jupyter-widgets/base",
      "model_module_version": "1.2.0",
      "model_name": "LayoutModel",
      "state": {
       "_model_module": "@jupyter-widgets/base",
       "_model_module_version": "1.2.0",
       "_model_name": "LayoutModel",
       "_view_count": null,
       "_view_module": "@jupyter-widgets/base",
       "_view_module_version": "1.2.0",
       "_view_name": "LayoutView",
       "align_content": null,
       "align_items": null,
       "align_self": null,
       "border": null,
       "bottom": null,
       "display": null,
       "flex": null,
       "flex_flow": null,
       "grid_area": null,
       "grid_auto_columns": null,
       "grid_auto_flow": null,
       "grid_auto_rows": null,
       "grid_column": null,
       "grid_gap": null,
       "grid_row": null,
       "grid_template_areas": null,
       "grid_template_columns": null,
       "grid_template_rows": null,
       "height": null,
       "justify_content": null,
       "justify_items": null,
       "left": null,
       "margin": null,
       "max_height": null,
       "max_width": null,
       "min_height": null,
       "min_width": null,
       "object_fit": null,
       "object_position": null,
       "order": null,
       "overflow": null,
       "overflow_x": null,
       "overflow_y": null,
       "padding": null,
       "right": null,
       "top": null,
       "visibility": null,
       "width": null
      }
     },
     "4b968eb0b82a4e78ba578bf730382862": {
      "model_module": "@jupyter-widgets/controls",
      "model_module_version": "1.5.0",
      "model_name": "HTMLModel",
      "state": {
       "_dom_classes": [],
       "_model_module": "@jupyter-widgets/controls",
       "_model_module_version": "1.5.0",
       "_model_name": "HTMLModel",
       "_view_count": null,
       "_view_module": "@jupyter-widgets/controls",
       "_view_module_version": "1.5.0",
       "_view_name": "HTMLView",
       "description": "",
       "description_tooltip": null,
       "layout": "IPY_MODEL_f413e6650ef943b78dce6caf86f2a6cd",
       "placeholder": "​",
       "style": "IPY_MODEL_dbe470f508e546cc9a21035b9adf70c7",
       "value": "100%"
      }
     },
     "55d4758db790433eb65a4b94da230c89": {
      "model_module": "@jupyter-widgets/controls",
      "model_module_version": "1.5.0",
      "model_name": "DescriptionStyleModel",
      "state": {
       "_model_module": "@jupyter-widgets/controls",
       "_model_module_version": "1.5.0",
       "_model_name": "DescriptionStyleModel",
       "_view_count": null,
       "_view_module": "@jupyter-widgets/base",
       "_view_module_version": "1.2.0",
       "_view_name": "StyleView",
       "description_width": ""
      }
     },
     "56273d45ea26493f9849e785c1a283bf": {
      "model_module": "@jupyter-widgets/controls",
      "model_module_version": "1.5.0",
      "model_name": "DescriptionStyleModel",
      "state": {
       "_model_module": "@jupyter-widgets/controls",
       "_model_module_version": "1.5.0",
       "_model_name": "DescriptionStyleModel",
       "_view_count": null,
       "_view_module": "@jupyter-widgets/base",
       "_view_module_version": "1.2.0",
       "_view_name": "StyleView",
       "description_width": ""
      }
     },
     "58f142df82a5476493d169cb30c90c02": {
      "model_module": "@jupyter-widgets/controls",
      "model_module_version": "1.5.0",
      "model_name": "ProgressStyleModel",
      "state": {
       "_model_module": "@jupyter-widgets/controls",
       "_model_module_version": "1.5.0",
       "_model_name": "ProgressStyleModel",
       "_view_count": null,
       "_view_module": "@jupyter-widgets/base",
       "_view_module_version": "1.2.0",
       "_view_name": "StyleView",
       "bar_color": null,
       "description_width": ""
      }
     },
     "58fdefff7c724931af4bd96ae567a485": {
      "model_module": "@jupyter-widgets/controls",
      "model_module_version": "1.5.0",
      "model_name": "HTMLModel",
      "state": {
       "_dom_classes": [],
       "_model_module": "@jupyter-widgets/controls",
       "_model_module_version": "1.5.0",
       "_model_name": "HTMLModel",
       "_view_count": null,
       "_view_module": "@jupyter-widgets/controls",
       "_view_module_version": "1.5.0",
       "_view_name": "HTMLView",
       "description": "",
       "description_tooltip": null,
       "layout": "IPY_MODEL_e9cda569287345eb913c9ecef5c9a303",
       "placeholder": "​",
       "style": "IPY_MODEL_56273d45ea26493f9849e785c1a283bf",
       "value": " 69.7k/69.7k [00:00&lt;00:00, 1.32MB/s]"
      }
     },
     "6697640551ee4101ae2f2f9b781d0dfc": {
      "model_module": "@jupyter-widgets/controls",
      "model_module_version": "1.5.0",
      "model_name": "HTMLModel",
      "state": {
       "_dom_classes": [],
       "_model_module": "@jupyter-widgets/controls",
       "_model_module_version": "1.5.0",
       "_model_name": "HTMLModel",
       "_view_count": null,
       "_view_module": "@jupyter-widgets/controls",
       "_view_module_version": "1.5.0",
       "_view_name": "HTMLView",
       "description": "",
       "description_tooltip": null,
       "layout": "IPY_MODEL_00fe4793a241403d94691f8092136a6c",
       "placeholder": "​",
       "style": "IPY_MODEL_775b3a12f7d348029cc400baec9e1d16",
       "value": " 234/234 [00:00&lt;00:00, 11685.38it/s]"
      }
     },
     "692b35e9ec0d4ab69f2032aaa8cf704a": {
      "model_module": "@jupyter-widgets/controls",
      "model_module_version": "1.5.0",
      "model_name": "HTMLModel",
      "state": {
       "_dom_classes": [],
       "_model_module": "@jupyter-widgets/controls",
       "_model_module_version": "1.5.0",
       "_model_name": "HTMLModel",
       "_view_count": null,
       "_view_module": "@jupyter-widgets/controls",
       "_view_module_version": "1.5.0",
       "_view_name": "HTMLView",
       "description": "",
       "description_tooltip": null,
       "layout": "IPY_MODEL_e9e89d67071a49d289819a39e7b4e053",
       "placeholder": "​",
       "style": "IPY_MODEL_e4684b4c330e43179b9b150c44126e48",
       "value": "config.json: 100%"
      }
     },
     "6a4c789ba1ca4839adec7beb6fe05151": {
      "model_module": "@jupyter-widgets/controls",
      "model_module_version": "1.5.0",
      "model_name": "FloatProgressModel",
      "state": {
       "_dom_classes": [],
       "_model_module": "@jupyter-widgets/controls",
       "_model_module_version": "1.5.0",
       "_model_name": "FloatProgressModel",
       "_view_count": null,
       "_view_module": "@jupyter-widgets/controls",
       "_view_module_version": "1.5.0",
       "_view_name": "ProgressView",
       "bar_style": "success",
       "description": "",
       "description_tooltip": null,
       "layout": "IPY_MODEL_a69be3c1f3644d3c83979be43444f108",
       "max": 69724.0,
       "min": 0.0,
       "orientation": "horizontal",
       "style": "IPY_MODEL_204daea8ddb34bce93b15fc2df9f585f",
       "value": 69724.0
      }
     },
     "6adc80ab18f94c4d943f056a5116fb6b": {
      "model_module": "@jupyter-widgets/controls",
      "model_module_version": "1.5.0",
      "model_name": "HBoxModel",
      "state": {
       "_dom_classes": [],
       "_model_module": "@jupyter-widgets/controls",
       "_model_module_version": "1.5.0",
       "_model_name": "HBoxModel",
       "_view_count": null,
       "_view_module": "@jupyter-widgets/controls",
       "_view_module_version": "1.5.0",
       "_view_name": "HBoxView",
       "box_style": "",
       "children": [
        "IPY_MODEL_7bfd269fda79432e91aee2596bb342e4",
        "IPY_MODEL_6b630d2d97404740bccd1d76fb98ce8e",
        "IPY_MODEL_6697640551ee4101ae2f2f9b781d0dfc"
       ],
       "layout": "IPY_MODEL_2a2285899e4d4a35825daa561bb16cf8"
      }
     },
     "6b630d2d97404740bccd1d76fb98ce8e": {
      "model_module": "@jupyter-widgets/controls",
      "model_module_version": "1.5.0",
      "model_name": "FloatProgressModel",
      "state": {
       "_dom_classes": [],
       "_model_module": "@jupyter-widgets/controls",
       "_model_module_version": "1.5.0",
       "_model_name": "FloatProgressModel",
       "_view_count": null,
       "_view_module": "@jupyter-widgets/controls",
       "_view_module_version": "1.5.0",
       "_view_name": "ProgressView",
       "bar_style": "success",
       "description": "",
       "description_tooltip": null,
       "layout": "IPY_MODEL_0c0c333ff27c4a6796ed03000ee88890",
       "max": 234.0,
       "min": 0.0,
       "orientation": "horizontal",
       "style": "IPY_MODEL_0119c44e50064ea49b54502d1430f04f",
       "value": 234.0
      }
     },
     "6f487a572e594c9ab8f89a14b83c81d7": {
      "model_module": "@jupyter-widgets/controls",
      "model_module_version": "1.5.0",
      "model_name": "HBoxModel",
      "state": {
       "_dom_classes": [],
       "_model_module": "@jupyter-widgets/controls",
       "_model_module_version": "1.5.0",
       "_model_name": "HBoxModel",
       "_view_count": null,
       "_view_module": "@jupyter-widgets/controls",
       "_view_module_version": "1.5.0",
       "_view_name": "HBoxView",
       "box_style": "",
       "children": [
        "IPY_MODEL_f193e4e92a3e42db820d500bb7bbe122",
        "IPY_MODEL_351db656689a4e09a492a0ac0fdf44ad",
        "IPY_MODEL_2468808d427b4d539b879343feedcc19"
       ],
       "layout": "IPY_MODEL_bdbacc61b5304be0b77638b143795599"
      }
     },
     "73af72f1c75f4452b1681025cfcbaeb9": {
      "model_module": "@jupyter-widgets/controls",
      "model_module_version": "1.5.0",
      "model_name": "DescriptionStyleModel",
      "state": {
       "_model_module": "@jupyter-widgets/controls",
       "_model_module_version": "1.5.0",
       "_model_name": "DescriptionStyleModel",
       "_view_count": null,
       "_view_module": "@jupyter-widgets/base",
       "_view_module_version": "1.2.0",
       "_view_name": "StyleView",
       "description_width": ""
      }
     },
     "750a92fd4b234093b4b41ca5990a76de": {
      "model_module": "@jupyter-widgets/controls",
      "model_module_version": "1.5.0",
      "model_name": "HBoxModel",
      "state": {
       "_dom_classes": [],
       "_model_module": "@jupyter-widgets/controls",
       "_model_module_version": "1.5.0",
       "_model_name": "HBoxModel",
       "_view_count": null,
       "_view_module": "@jupyter-widgets/controls",
       "_view_module_version": "1.5.0",
       "_view_name": "HBoxView",
       "box_style": "",
       "children": [
        "IPY_MODEL_aac74d74beb145d5a629c378d8c9d7ae",
        "IPY_MODEL_01c8cf50b728432c82686e0a999a625f",
        "IPY_MODEL_1209354fc1d04edfabe81f5bb5971002"
       ],
       "layout": "IPY_MODEL_99d3e6780d52466dbe56b5a534def1a9"
      }
     },
     "775b3a12f7d348029cc400baec9e1d16": {
      "model_module": "@jupyter-widgets/controls",
      "model_module_version": "1.5.0",
      "model_name": "DescriptionStyleModel",
      "state": {
       "_model_module": "@jupyter-widgets/controls",
       "_model_module_version": "1.5.0",
       "_model_name": "DescriptionStyleModel",
       "_view_count": null,
       "_view_module": "@jupyter-widgets/base",
       "_view_module_version": "1.2.0",
       "_view_name": "StyleView",
       "description_width": ""
      }
     },
     "7bfd269fda79432e91aee2596bb342e4": {
      "model_module": "@jupyter-widgets/controls",
      "model_module_version": "1.5.0",
      "model_name": "HTMLModel",
      "state": {
       "_dom_classes": [],
       "_model_module": "@jupyter-widgets/controls",
       "_model_module_version": "1.5.0",
       "_model_name": "HTMLModel",
       "_view_count": null,
       "_view_module": "@jupyter-widgets/controls",
       "_view_module_version": "1.5.0",
       "_view_name": "HTMLView",
       "description": "",
       "description_tooltip": null,
       "layout": "IPY_MODEL_8bb714664cd1430faec2f2a4fc2469a4",
       "placeholder": "​",
       "style": "IPY_MODEL_73af72f1c75f4452b1681025cfcbaeb9",
       "value": "100%"
      }
     },
     "8394087e2f1549748c0f7c8ebff1507d": {
      "model_module": "@jupyter-widgets/base",
      "model_module_version": "1.2.0",
      "model_name": "LayoutModel",
      "state": {
       "_model_module": "@jupyter-widgets/base",
       "_model_module_version": "1.2.0",
       "_model_name": "LayoutModel",
       "_view_count": null,
       "_view_module": "@jupyter-widgets/base",
       "_view_module_version": "1.2.0",
       "_view_name": "LayoutView",
       "align_content": null,
       "align_items": null,
       "align_self": null,
       "border": null,
       "bottom": null,
       "display": null,
       "flex": null,
       "flex_flow": null,
       "grid_area": null,
       "grid_auto_columns": null,
       "grid_auto_flow": null,
       "grid_auto_rows": null,
       "grid_column": null,
       "grid_gap": null,
       "grid_row": null,
       "grid_template_areas": null,
       "grid_template_columns": null,
       "grid_template_rows": null,
       "height": null,
       "justify_content": null,
       "justify_items": null,
       "left": null,
       "margin": null,
       "max_height": null,
       "max_width": null,
       "min_height": null,
       "min_width": null,
       "object_fit": null,
       "object_position": null,
       "order": null,
       "overflow": null,
       "overflow_x": null,
       "overflow_y": null,
       "padding": null,
       "right": null,
       "top": null,
       "visibility": null,
       "width": null
      }
     },
     "849a20e9a37243cc8a611cd840054724": {
      "model_module": "@jupyter-widgets/base",
      "model_module_version": "1.2.0",
      "model_name": "LayoutModel",
      "state": {
       "_model_module": "@jupyter-widgets/base",
       "_model_module_version": "1.2.0",
       "_model_name": "LayoutModel",
       "_view_count": null,
       "_view_module": "@jupyter-widgets/base",
       "_view_module_version": "1.2.0",
       "_view_name": "LayoutView",
       "align_content": null,
       "align_items": null,
       "align_self": null,
       "border": null,
       "bottom": null,
       "display": null,
       "flex": null,
       "flex_flow": null,
       "grid_area": null,
       "grid_auto_columns": null,
       "grid_auto_flow": null,
       "grid_auto_rows": null,
       "grid_column": null,
       "grid_gap": null,
       "grid_row": null,
       "grid_template_areas": null,
       "grid_template_columns": null,
       "grid_template_rows": null,
       "height": null,
       "justify_content": null,
       "justify_items": null,
       "left": null,
       "margin": null,
       "max_height": null,
       "max_width": null,
       "min_height": null,
       "min_width": null,
       "object_fit": null,
       "object_position": null,
       "order": null,
       "overflow": null,
       "overflow_x": null,
       "overflow_y": null,
       "padding": null,
       "right": null,
       "top": null,
       "visibility": null,
       "width": null
      }
     },
     "8bb714664cd1430faec2f2a4fc2469a4": {
      "model_module": "@jupyter-widgets/base",
      "model_module_version": "1.2.0",
      "model_name": "LayoutModel",
      "state": {
       "_model_module": "@jupyter-widgets/base",
       "_model_module_version": "1.2.0",
       "_model_name": "LayoutModel",
       "_view_count": null,
       "_view_module": "@jupyter-widgets/base",
       "_view_module_version": "1.2.0",
       "_view_name": "LayoutView",
       "align_content": null,
       "align_items": null,
       "align_self": null,
       "border": null,
       "bottom": null,
       "display": null,
       "flex": null,
       "flex_flow": null,
       "grid_area": null,
       "grid_auto_columns": null,
       "grid_auto_flow": null,
       "grid_auto_rows": null,
       "grid_column": null,
       "grid_gap": null,
       "grid_row": null,
       "grid_template_areas": null,
       "grid_template_columns": null,
       "grid_template_rows": null,
       "height": null,
       "justify_content": null,
       "justify_items": null,
       "left": null,
       "margin": null,
       "max_height": null,
       "max_width": null,
       "min_height": null,
       "min_width": null,
       "object_fit": null,
       "object_position": null,
       "order": null,
       "overflow": null,
       "overflow_x": null,
       "overflow_y": null,
       "padding": null,
       "right": null,
       "top": null,
       "visibility": null,
       "width": null
      }
     },
     "92312936f48842f1860c4ce352f1a054": {
      "model_module": "@jupyter-widgets/base",
      "model_module_version": "1.2.0",
      "model_name": "LayoutModel",
      "state": {
       "_model_module": "@jupyter-widgets/base",
       "_model_module_version": "1.2.0",
       "_model_name": "LayoutModel",
       "_view_count": null,
       "_view_module": "@jupyter-widgets/base",
       "_view_module_version": "1.2.0",
       "_view_name": "LayoutView",
       "align_content": null,
       "align_items": null,
       "align_self": null,
       "border": null,
       "bottom": null,
       "display": null,
       "flex": null,
       "flex_flow": null,
       "grid_area": null,
       "grid_auto_columns": null,
       "grid_auto_flow": null,
       "grid_auto_rows": null,
       "grid_column": null,
       "grid_gap": null,
       "grid_row": null,
       "grid_template_areas": null,
       "grid_template_columns": null,
       "grid_template_rows": null,
       "height": null,
       "justify_content": null,
       "justify_items": null,
       "left": null,
       "margin": null,
       "max_height": null,
       "max_width": null,
       "min_height": null,
       "min_width": null,
       "object_fit": null,
       "object_position": null,
       "order": null,
       "overflow": null,
       "overflow_x": null,
       "overflow_y": null,
       "padding": null,
       "right": null,
       "top": null,
       "visibility": null,
       "width": null
      }
     },
     "9733ef87b4a0414ca1580b85fffbdf13": {
      "model_module": "@jupyter-widgets/base",
      "model_module_version": "1.2.0",
      "model_name": "LayoutModel",
      "state": {
       "_model_module": "@jupyter-widgets/base",
       "_model_module_version": "1.2.0",
       "_model_name": "LayoutModel",
       "_view_count": null,
       "_view_module": "@jupyter-widgets/base",
       "_view_module_version": "1.2.0",
       "_view_name": "LayoutView",
       "align_content": null,
       "align_items": null,
       "align_self": null,
       "border": null,
       "bottom": null,
       "display": null,
       "flex": null,
       "flex_flow": null,
       "grid_area": null,
       "grid_auto_columns": null,
       "grid_auto_flow": null,
       "grid_auto_rows": null,
       "grid_column": null,
       "grid_gap": null,
       "grid_row": null,
       "grid_template_areas": null,
       "grid_template_columns": null,
       "grid_template_rows": null,
       "height": null,
       "justify_content": null,
       "justify_items": null,
       "left": null,
       "margin": null,
       "max_height": null,
       "max_width": null,
       "min_height": null,
       "min_width": null,
       "object_fit": null,
       "object_position": null,
       "order": null,
       "overflow": null,
       "overflow_x": null,
       "overflow_y": null,
       "padding": null,
       "right": null,
       "top": null,
       "visibility": null,
       "width": null
      }
     },
     "99d3e6780d52466dbe56b5a534def1a9": {
      "model_module": "@jupyter-widgets/base",
      "model_module_version": "1.2.0",
      "model_name": "LayoutModel",
      "state": {
       "_model_module": "@jupyter-widgets/base",
       "_model_module_version": "1.2.0",
       "_model_name": "LayoutModel",
       "_view_count": null,
       "_view_module": "@jupyter-widgets/base",
       "_view_module_version": "1.2.0",
       "_view_name": "LayoutView",
       "align_content": null,
       "align_items": null,
       "align_self": null,
       "border": null,
       "bottom": null,
       "display": null,
       "flex": null,
       "flex_flow": null,
       "grid_area": null,
       "grid_auto_columns": null,
       "grid_auto_flow": null,
       "grid_auto_rows": null,
       "grid_column": null,
       "grid_gap": null,
       "grid_row": null,
       "grid_template_areas": null,
       "grid_template_columns": null,
       "grid_template_rows": null,
       "height": null,
       "justify_content": null,
       "justify_items": null,
       "left": null,
       "margin": null,
       "max_height": null,
       "max_width": null,
       "min_height": null,
       "min_width": null,
       "object_fit": null,
       "object_position": null,
       "order": null,
       "overflow": null,
       "overflow_x": null,
       "overflow_y": null,
       "padding": null,
       "right": null,
       "top": null,
       "visibility": null,
       "width": null
      }
     },
     "9c94c5a1274540cb94436a92aaf92728": {
      "model_module": "@jupyter-widgets/controls",
      "model_module_version": "1.5.0",
      "model_name": "DescriptionStyleModel",
      "state": {
       "_model_module": "@jupyter-widgets/controls",
       "_model_module_version": "1.5.0",
       "_model_name": "DescriptionStyleModel",
       "_view_count": null,
       "_view_module": "@jupyter-widgets/base",
       "_view_module_version": "1.2.0",
       "_view_name": "StyleView",
       "description_width": ""
      }
     },
     "a69be3c1f3644d3c83979be43444f108": {
      "model_module": "@jupyter-widgets/base",
      "model_module_version": "1.2.0",
      "model_name": "LayoutModel",
      "state": {
       "_model_module": "@jupyter-widgets/base",
       "_model_module_version": "1.2.0",
       "_model_name": "LayoutModel",
       "_view_count": null,
       "_view_module": "@jupyter-widgets/base",
       "_view_module_version": "1.2.0",
       "_view_name": "LayoutView",
       "align_content": null,
       "align_items": null,
       "align_self": null,
       "border": null,
       "bottom": null,
       "display": null,
       "flex": null,
       "flex_flow": null,
       "grid_area": null,
       "grid_auto_columns": null,
       "grid_auto_flow": null,
       "grid_auto_rows": null,
       "grid_column": null,
       "grid_gap": null,
       "grid_row": null,
       "grid_template_areas": null,
       "grid_template_columns": null,
       "grid_template_rows": null,
       "height": null,
       "justify_content": null,
       "justify_items": null,
       "left": null,
       "margin": null,
       "max_height": null,
       "max_width": null,
       "min_height": null,
       "min_width": null,
       "object_fit": null,
       "object_position": null,
       "order": null,
       "overflow": null,
       "overflow_x": null,
       "overflow_y": null,
       "padding": null,
       "right": null,
       "top": null,
       "visibility": null,
       "width": null
      }
     },
     "a75e0a2ba3c642b5aa543d04c4a21576": {
      "model_module": "@jupyter-widgets/controls",
      "model_module_version": "1.5.0",
      "model_name": "HBoxModel",
      "state": {
       "_dom_classes": [],
       "_model_module": "@jupyter-widgets/controls",
       "_model_module_version": "1.5.0",
       "_model_name": "HBoxModel",
       "_view_count": null,
       "_view_module": "@jupyter-widgets/controls",
       "_view_module_version": "1.5.0",
       "_view_name": "HBoxView",
       "box_style": "",
       "children": [
        "IPY_MODEL_eb60d1f6a98d44eabb57a40b98cd71c7",
        "IPY_MODEL_b4618f75792e4af4ac93fea4d3924a04",
        "IPY_MODEL_ecd072249fa94e1daa73ecec1fe6ca76"
       ],
       "layout": "IPY_MODEL_d05929c2b2e04346b4aab6ca7512332f"
      }
     },
     "a93dbdacf89544ad93c3576f98088a4b": {
      "model_module": "@jupyter-widgets/controls",
      "model_module_version": "1.5.0",
      "model_name": "ProgressStyleModel",
      "state": {
       "_model_module": "@jupyter-widgets/controls",
       "_model_module_version": "1.5.0",
       "_model_name": "ProgressStyleModel",
       "_view_count": null,
       "_view_module": "@jupyter-widgets/base",
       "_view_module_version": "1.2.0",
       "_view_name": "StyleView",
       "bar_color": null,
       "description_width": ""
      }
     },
     "aac74d74beb145d5a629c378d8c9d7ae": {
      "model_module": "@jupyter-widgets/controls",
      "model_module_version": "1.5.0",
      "model_name": "HTMLModel",
      "state": {
       "_dom_classes": [],
       "_model_module": "@jupyter-widgets/controls",
       "_model_module_version": "1.5.0",
       "_model_name": "HTMLModel",
       "_view_count": null,
       "_view_module": "@jupyter-widgets/controls",
       "_view_module_version": "1.5.0",
       "_view_name": "HTMLView",
       "description": "",
       "description_tooltip": null,
       "layout": "IPY_MODEL_09a915b4a63b420a9e5ffec9bc8a98fd",
       "placeholder": "​",
       "style": "IPY_MODEL_9c94c5a1274540cb94436a92aaf92728",
       "value": "100%"
      }
     },
     "ae00b6df26ca431e8cdf18923dbc932a": {
      "model_module": "@jupyter-widgets/base",
      "model_module_version": "1.2.0",
      "model_name": "LayoutModel",
      "state": {
       "_model_module": "@jupyter-widgets/base",
       "_model_module_version": "1.2.0",
       "_model_name": "LayoutModel",
       "_view_count": null,
       "_view_module": "@jupyter-widgets/base",
       "_view_module_version": "1.2.0",
       "_view_name": "LayoutView",
       "align_content": null,
       "align_items": null,
       "align_self": null,
       "border": null,
       "bottom": null,
       "display": null,
       "flex": null,
       "flex_flow": null,
       "grid_area": null,
       "grid_auto_columns": null,
       "grid_auto_flow": null,
       "grid_auto_rows": null,
       "grid_column": null,
       "grid_gap": null,
       "grid_row": null,
       "grid_template_areas": null,
       "grid_template_columns": null,
       "grid_template_rows": null,
       "height": null,
       "justify_content": null,
       "justify_items": null,
       "left": null,
       "margin": null,
       "max_height": null,
       "max_width": null,
       "min_height": null,
       "min_width": null,
       "object_fit": null,
       "object_position": null,
       "order": null,
       "overflow": null,
       "overflow_x": null,
       "overflow_y": null,
       "padding": null,
       "right": null,
       "top": null,
       "visibility": null,
       "width": null
      }
     },
     "b3448c1278a14b79b559c14c963b70d1": {
      "model_module": "@jupyter-widgets/controls",
      "model_module_version": "1.5.0",
      "model_name": "DescriptionStyleModel",
      "state": {
       "_model_module": "@jupyter-widgets/controls",
       "_model_module_version": "1.5.0",
       "_model_name": "DescriptionStyleModel",
       "_view_count": null,
       "_view_module": "@jupyter-widgets/base",
       "_view_module_version": "1.2.0",
       "_view_name": "StyleView",
       "description_width": ""
      }
     },
     "b4618f75792e4af4ac93fea4d3924a04": {
      "model_module": "@jupyter-widgets/controls",
      "model_module_version": "1.5.0",
      "model_name": "FloatProgressModel",
      "state": {
       "_dom_classes": [],
       "_model_module": "@jupyter-widgets/controls",
       "_model_module_version": "1.5.0",
       "_model_name": "FloatProgressModel",
       "_view_count": null,
       "_view_module": "@jupyter-widgets/controls",
       "_view_module_version": "1.5.0",
       "_view_name": "ProgressView",
       "bar_style": "success",
       "description": "",
       "description_tooltip": null,
       "layout": "IPY_MODEL_92312936f48842f1860c4ce352f1a054",
       "max": 1135.0,
       "min": 0.0,
       "orientation": "horizontal",
       "style": "IPY_MODEL_d1677c4af5ad42b29be756335566abb7",
       "value": 1135.0
      }
     },
     "b4be99c39eec40f19fa10e2ded4560bb": {
      "model_module": "@jupyter-widgets/controls",
      "model_module_version": "1.5.0",
      "model_name": "DescriptionStyleModel",
      "state": {
       "_model_module": "@jupyter-widgets/controls",
       "_model_module_version": "1.5.0",
       "_model_name": "DescriptionStyleModel",
       "_view_count": null,
       "_view_module": "@jupyter-widgets/base",
       "_view_module_version": "1.2.0",
       "_view_name": "StyleView",
       "description_width": ""
      }
     },
     "bdbacc61b5304be0b77638b143795599": {
      "model_module": "@jupyter-widgets/base",
      "model_module_version": "1.2.0",
      "model_name": "LayoutModel",
      "state": {
       "_model_module": "@jupyter-widgets/base",
       "_model_module_version": "1.2.0",
       "_model_name": "LayoutModel",
       "_view_count": null,
       "_view_module": "@jupyter-widgets/base",
       "_view_module_version": "1.2.0",
       "_view_name": "LayoutView",
       "align_content": null,
       "align_items": null,
       "align_self": null,
       "border": null,
       "bottom": null,
       "display": null,
       "flex": null,
       "flex_flow": null,
       "grid_area": null,
       "grid_auto_columns": null,
       "grid_auto_flow": null,
       "grid_auto_rows": null,
       "grid_column": null,
       "grid_gap": null,
       "grid_row": null,
       "grid_template_areas": null,
       "grid_template_columns": null,
       "grid_template_rows": null,
       "height": null,
       "justify_content": null,
       "justify_items": null,
       "left": null,
       "margin": null,
       "max_height": null,
       "max_width": null,
       "min_height": null,
       "min_width": null,
       "object_fit": null,
       "object_position": null,
       "order": null,
       "overflow": null,
       "overflow_x": null,
       "overflow_y": null,
       "padding": null,
       "right": null,
       "top": null,
       "visibility": null,
       "width": null
      }
     },
     "c352f815adf0488585c3e3e2c8637030": {
      "model_module": "@jupyter-widgets/controls",
      "model_module_version": "1.5.0",
      "model_name": "DescriptionStyleModel",
      "state": {
       "_model_module": "@jupyter-widgets/controls",
       "_model_module_version": "1.5.0",
       "_model_name": "DescriptionStyleModel",
       "_view_count": null,
       "_view_module": "@jupyter-widgets/base",
       "_view_module_version": "1.2.0",
       "_view_name": "StyleView",
       "description_width": ""
      }
     },
     "d05929c2b2e04346b4aab6ca7512332f": {
      "model_module": "@jupyter-widgets/base",
      "model_module_version": "1.2.0",
      "model_name": "LayoutModel",
      "state": {
       "_model_module": "@jupyter-widgets/base",
       "_model_module_version": "1.2.0",
       "_model_name": "LayoutModel",
       "_view_count": null,
       "_view_module": "@jupyter-widgets/base",
       "_view_module_version": "1.2.0",
       "_view_name": "LayoutView",
       "align_content": null,
       "align_items": null,
       "align_self": null,
       "border": null,
       "bottom": null,
       "display": null,
       "flex": null,
       "flex_flow": null,
       "grid_area": null,
       "grid_auto_columns": null,
       "grid_auto_flow": null,
       "grid_auto_rows": null,
       "grid_column": null,
       "grid_gap": null,
       "grid_row": null,
       "grid_template_areas": null,
       "grid_template_columns": null,
       "grid_template_rows": null,
       "height": null,
       "justify_content": null,
       "justify_items": null,
       "left": null,
       "margin": null,
       "max_height": null,
       "max_width": null,
       "min_height": null,
       "min_width": null,
       "object_fit": null,
       "object_position": null,
       "order": null,
       "overflow": null,
       "overflow_x": null,
       "overflow_y": null,
       "padding": null,
       "right": null,
       "top": null,
       "visibility": null,
       "width": null
      }
     },
     "d1677c4af5ad42b29be756335566abb7": {
      "model_module": "@jupyter-widgets/controls",
      "model_module_version": "1.5.0",
      "model_name": "ProgressStyleModel",
      "state": {
       "_model_module": "@jupyter-widgets/controls",
       "_model_module_version": "1.5.0",
       "_model_name": "ProgressStyleModel",
       "_view_count": null,
       "_view_module": "@jupyter-widgets/base",
       "_view_module_version": "1.2.0",
       "_view_name": "StyleView",
       "bar_color": null,
       "description_width": ""
      }
     },
     "da7c3f32a6114d2cb00ee40869e0ba82": {
      "model_module": "@jupyter-widgets/base",
      "model_module_version": "1.2.0",
      "model_name": "LayoutModel",
      "state": {
       "_model_module": "@jupyter-widgets/base",
       "_model_module_version": "1.2.0",
       "_model_name": "LayoutModel",
       "_view_count": null,
       "_view_module": "@jupyter-widgets/base",
       "_view_module_version": "1.2.0",
       "_view_name": "LayoutView",
       "align_content": null,
       "align_items": null,
       "align_self": null,
       "border": null,
       "bottom": null,
       "display": null,
       "flex": null,
       "flex_flow": null,
       "grid_area": null,
       "grid_auto_columns": null,
       "grid_auto_flow": null,
       "grid_auto_rows": null,
       "grid_column": null,
       "grid_gap": null,
       "grid_row": null,
       "grid_template_areas": null,
       "grid_template_columns": null,
       "grid_template_rows": null,
       "height": null,
       "justify_content": null,
       "justify_items": null,
       "left": null,
       "margin": null,
       "max_height": null,
       "max_width": null,
       "min_height": null,
       "min_width": null,
       "object_fit": null,
       "object_position": null,
       "order": null,
       "overflow": null,
       "overflow_x": null,
       "overflow_y": null,
       "padding": null,
       "right": null,
       "top": null,
       "visibility": null,
       "width": null
      }
     },
     "dbe470f508e546cc9a21035b9adf70c7": {
      "model_module": "@jupyter-widgets/controls",
      "model_module_version": "1.5.0",
      "model_name": "DescriptionStyleModel",
      "state": {
       "_model_module": "@jupyter-widgets/controls",
       "_model_module_version": "1.5.0",
       "_model_name": "DescriptionStyleModel",
       "_view_count": null,
       "_view_module": "@jupyter-widgets/base",
       "_view_module_version": "1.2.0",
       "_view_name": "StyleView",
       "description_width": ""
      }
     },
     "dec69571429242e286c197b8039741bc": {
      "model_module": "@jupyter-widgets/controls",
      "model_module_version": "1.5.0",
      "model_name": "HTMLModel",
      "state": {
       "_dom_classes": [],
       "_model_module": "@jupyter-widgets/controls",
       "_model_module_version": "1.5.0",
       "_model_name": "HTMLModel",
       "_view_count": null,
       "_view_module": "@jupyter-widgets/controls",
       "_view_module_version": "1.5.0",
       "_view_name": "HTMLView",
       "description": "",
       "description_tooltip": null,
       "layout": "IPY_MODEL_4b50741130024e3a8949d65d933ff81f",
       "placeholder": "​",
       "style": "IPY_MODEL_c352f815adf0488585c3e3e2c8637030",
       "value": " 234/234 [00:00&lt;00:00, 11584.42it/s]"
      }
     },
     "e0a10fe9ed7645dfaa908739216cc225": {
      "model_module": "@jupyter-widgets/controls",
      "model_module_version": "1.5.0",
      "model_name": "HBoxModel",
      "state": {
       "_dom_classes": [],
       "_model_module": "@jupyter-widgets/controls",
       "_model_module_version": "1.5.0",
       "_model_name": "HBoxModel",
       "_view_count": null,
       "_view_module": "@jupyter-widgets/controls",
       "_view_module_version": "1.5.0",
       "_view_name": "HBoxView",
       "box_style": "",
       "children": [
        "IPY_MODEL_4b968eb0b82a4e78ba578bf730382862",
        "IPY_MODEL_fff33ffd3c5546de8960ff0e559a54de",
        "IPY_MODEL_dec69571429242e286c197b8039741bc"
       ],
       "layout": "IPY_MODEL_e70123ca8a85431d948c12736fe720ea"
      }
     },
     "e4684b4c330e43179b9b150c44126e48": {
      "model_module": "@jupyter-widgets/controls",
      "model_module_version": "1.5.0",
      "model_name": "DescriptionStyleModel",
      "state": {
       "_model_module": "@jupyter-widgets/controls",
       "_model_module_version": "1.5.0",
       "_model_name": "DescriptionStyleModel",
       "_view_count": null,
       "_view_module": "@jupyter-widgets/base",
       "_view_module_version": "1.2.0",
       "_view_name": "StyleView",
       "description_width": ""
      }
     },
     "e70123ca8a85431d948c12736fe720ea": {
      "model_module": "@jupyter-widgets/base",
      "model_module_version": "1.2.0",
      "model_name": "LayoutModel",
      "state": {
       "_model_module": "@jupyter-widgets/base",
       "_model_module_version": "1.2.0",
       "_model_name": "LayoutModel",
       "_view_count": null,
       "_view_module": "@jupyter-widgets/base",
       "_view_module_version": "1.2.0",
       "_view_name": "LayoutView",
       "align_content": null,
       "align_items": null,
       "align_self": null,
       "border": null,
       "bottom": null,
       "display": null,
       "flex": null,
       "flex_flow": null,
       "grid_area": null,
       "grid_auto_columns": null,
       "grid_auto_flow": null,
       "grid_auto_rows": null,
       "grid_column": null,
       "grid_gap": null,
       "grid_row": null,
       "grid_template_areas": null,
       "grid_template_columns": null,
       "grid_template_rows": null,
       "height": null,
       "justify_content": null,
       "justify_items": null,
       "left": null,
       "margin": null,
       "max_height": null,
       "max_width": null,
       "min_height": null,
       "min_width": null,
       "object_fit": null,
       "object_position": null,
       "order": null,
       "overflow": null,
       "overflow_x": null,
       "overflow_y": null,
       "padding": null,
       "right": null,
       "top": null,
       "visibility": null,
       "width": null
      }
     },
     "e9cda569287345eb913c9ecef5c9a303": {
      "model_module": "@jupyter-widgets/base",
      "model_module_version": "1.2.0",
      "model_name": "LayoutModel",
      "state": {
       "_model_module": "@jupyter-widgets/base",
       "_model_module_version": "1.2.0",
       "_model_name": "LayoutModel",
       "_view_count": null,
       "_view_module": "@jupyter-widgets/base",
       "_view_module_version": "1.2.0",
       "_view_name": "LayoutView",
       "align_content": null,
       "align_items": null,
       "align_self": null,
       "border": null,
       "bottom": null,
       "display": null,
       "flex": null,
       "flex_flow": null,
       "grid_area": null,
       "grid_auto_columns": null,
       "grid_auto_flow": null,
       "grid_auto_rows": null,
       "grid_column": null,
       "grid_gap": null,
       "grid_row": null,
       "grid_template_areas": null,
       "grid_template_columns": null,
       "grid_template_rows": null,
       "height": null,
       "justify_content": null,
       "justify_items": null,
       "left": null,
       "margin": null,
       "max_height": null,
       "max_width": null,
       "min_height": null,
       "min_width": null,
       "object_fit": null,
       "object_position": null,
       "order": null,
       "overflow": null,
       "overflow_x": null,
       "overflow_y": null,
       "padding": null,
       "right": null,
       "top": null,
       "visibility": null,
       "width": null
      }
     },
     "e9e89d67071a49d289819a39e7b4e053": {
      "model_module": "@jupyter-widgets/base",
      "model_module_version": "1.2.0",
      "model_name": "LayoutModel",
      "state": {
       "_model_module": "@jupyter-widgets/base",
       "_model_module_version": "1.2.0",
       "_model_name": "LayoutModel",
       "_view_count": null,
       "_view_module": "@jupyter-widgets/base",
       "_view_module_version": "1.2.0",
       "_view_name": "LayoutView",
       "align_content": null,
       "align_items": null,
       "align_self": null,
       "border": null,
       "bottom": null,
       "display": null,
       "flex": null,
       "flex_flow": null,
       "grid_area": null,
       "grid_auto_columns": null,
       "grid_auto_flow": null,
       "grid_auto_rows": null,
       "grid_column": null,
       "grid_gap": null,
       "grid_row": null,
       "grid_template_areas": null,
       "grid_template_columns": null,
       "grid_template_rows": null,
       "height": null,
       "justify_content": null,
       "justify_items": null,
       "left": null,
       "margin": null,
       "max_height": null,
       "max_width": null,
       "min_height": null,
       "min_width": null,
       "object_fit": null,
       "object_position": null,
       "order": null,
       "overflow": null,
       "overflow_x": null,
       "overflow_y": null,
       "padding": null,
       "right": null,
       "top": null,
       "visibility": null,
       "width": null
      }
     },
     "eb60d1f6a98d44eabb57a40b98cd71c7": {
      "model_module": "@jupyter-widgets/controls",
      "model_module_version": "1.5.0",
      "model_name": "HTMLModel",
      "state": {
       "_dom_classes": [],
       "_model_module": "@jupyter-widgets/controls",
       "_model_module_version": "1.5.0",
       "_model_name": "HTMLModel",
       "_view_count": null,
       "_view_module": "@jupyter-widgets/controls",
       "_view_module_version": "1.5.0",
       "_view_name": "HTMLView",
       "description": "",
       "description_tooltip": null,
       "layout": "IPY_MODEL_ae00b6df26ca431e8cdf18923dbc932a",
       "placeholder": "​",
       "style": "IPY_MODEL_2e9922b1f9764dc69048b0e0d8baa7f2",
       "value": "events.out.tfevents.1716311215.b0835b462e36.24.1: 100%"
      }
     },
     "ecd072249fa94e1daa73ecec1fe6ca76": {
      "model_module": "@jupyter-widgets/controls",
      "model_module_version": "1.5.0",
      "model_name": "HTMLModel",
      "state": {
       "_dom_classes": [],
       "_model_module": "@jupyter-widgets/controls",
       "_model_module_version": "1.5.0",
       "_model_name": "HTMLModel",
       "_view_count": null,
       "_view_module": "@jupyter-widgets/controls",
       "_view_module_version": "1.5.0",
       "_view_name": "HTMLView",
       "description": "",
       "description_tooltip": null,
       "layout": "IPY_MODEL_849a20e9a37243cc8a611cd840054724",
       "placeholder": "​",
       "style": "IPY_MODEL_55d4758db790433eb65a4b94da230c89",
       "value": " 1.14k/1.14k [00:00&lt;00:00, 6.80kB/s]"
      }
     },
     "eee7c4461f5e481297fc5d7a14d8e616": {
      "model_module": "@jupyter-widgets/controls",
      "model_module_version": "1.5.0",
      "model_name": "ProgressStyleModel",
      "state": {
       "_model_module": "@jupyter-widgets/controls",
       "_model_module_version": "1.5.0",
       "_model_name": "ProgressStyleModel",
       "_view_count": null,
       "_view_module": "@jupyter-widgets/base",
       "_view_module_version": "1.2.0",
       "_view_name": "StyleView",
       "bar_color": null,
       "description_width": ""
      }
     },
     "f15bb6de7a1f438b9b6ce51404b883a3": {
      "model_module": "@jupyter-widgets/base",
      "model_module_version": "1.2.0",
      "model_name": "LayoutModel",
      "state": {
       "_model_module": "@jupyter-widgets/base",
       "_model_module_version": "1.2.0",
       "_model_name": "LayoutModel",
       "_view_count": null,
       "_view_module": "@jupyter-widgets/base",
       "_view_module_version": "1.2.0",
       "_view_name": "LayoutView",
       "align_content": null,
       "align_items": null,
       "align_self": null,
       "border": null,
       "bottom": null,
       "display": null,
       "flex": null,
       "flex_flow": null,
       "grid_area": null,
       "grid_auto_columns": null,
       "grid_auto_flow": null,
       "grid_auto_rows": null,
       "grid_column": null,
       "grid_gap": null,
       "grid_row": null,
       "grid_template_areas": null,
       "grid_template_columns": null,
       "grid_template_rows": null,
       "height": null,
       "justify_content": null,
       "justify_items": null,
       "left": null,
       "margin": null,
       "max_height": null,
       "max_width": null,
       "min_height": null,
       "min_width": null,
       "object_fit": null,
       "object_position": null,
       "order": null,
       "overflow": null,
       "overflow_x": null,
       "overflow_y": null,
       "padding": null,
       "right": null,
       "top": null,
       "visibility": null,
       "width": null
      }
     },
     "f193e4e92a3e42db820d500bb7bbe122": {
      "model_module": "@jupyter-widgets/controls",
      "model_module_version": "1.5.0",
      "model_name": "HTMLModel",
      "state": {
       "_dom_classes": [],
       "_model_module": "@jupyter-widgets/controls",
       "_model_module_version": "1.5.0",
       "_model_name": "HTMLModel",
       "_view_count": null,
       "_view_module": "@jupyter-widgets/controls",
       "_view_module_version": "1.5.0",
       "_view_name": "HTMLView",
       "description": "",
       "description_tooltip": null,
       "layout": "IPY_MODEL_f15bb6de7a1f438b9b6ce51404b883a3",
       "placeholder": "​",
       "style": "IPY_MODEL_3b32bfa2c5ce425bac5ca95b1e0c25a5",
       "value": "pytorch_model.bin: 100%"
      }
     },
     "f413e6650ef943b78dce6caf86f2a6cd": {
      "model_module": "@jupyter-widgets/base",
      "model_module_version": "1.2.0",
      "model_name": "LayoutModel",
      "state": {
       "_model_module": "@jupyter-widgets/base",
       "_model_module_version": "1.2.0",
       "_model_name": "LayoutModel",
       "_view_count": null,
       "_view_module": "@jupyter-widgets/base",
       "_view_module_version": "1.2.0",
       "_view_name": "LayoutView",
       "align_content": null,
       "align_items": null,
       "align_self": null,
       "border": null,
       "bottom": null,
       "display": null,
       "flex": null,
       "flex_flow": null,
       "grid_area": null,
       "grid_auto_columns": null,
       "grid_auto_flow": null,
       "grid_auto_rows": null,
       "grid_column": null,
       "grid_gap": null,
       "grid_row": null,
       "grid_template_areas": null,
       "grid_template_columns": null,
       "grid_template_rows": null,
       "height": null,
       "justify_content": null,
       "justify_items": null,
       "left": null,
       "margin": null,
       "max_height": null,
       "max_width": null,
       "min_height": null,
       "min_width": null,
       "object_fit": null,
       "object_position": null,
       "order": null,
       "overflow": null,
       "overflow_x": null,
       "overflow_y": null,
       "padding": null,
       "right": null,
       "top": null,
       "visibility": null,
       "width": null
      }
     },
     "fff33ffd3c5546de8960ff0e559a54de": {
      "model_module": "@jupyter-widgets/controls",
      "model_module_version": "1.5.0",
      "model_name": "FloatProgressModel",
      "state": {
       "_dom_classes": [],
       "_model_module": "@jupyter-widgets/controls",
       "_model_module_version": "1.5.0",
       "_model_name": "FloatProgressModel",
       "_view_count": null,
       "_view_module": "@jupyter-widgets/controls",
       "_view_module_version": "1.5.0",
       "_view_name": "ProgressView",
       "bar_style": "success",
       "description": "",
       "description_tooltip": null,
       "layout": "IPY_MODEL_da7c3f32a6114d2cb00ee40869e0ba82",
       "max": 234.0,
       "min": 0.0,
       "orientation": "horizontal",
       "style": "IPY_MODEL_58f142df82a5476493d169cb30c90c02",
       "value": 234.0
      }
     }
    },
    "version_major": 2,
    "version_minor": 0
   }
  }
 },
 "nbformat": 4,
 "nbformat_minor": 5
}
